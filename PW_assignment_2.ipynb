{
  "nbformat": 4,
  "nbformat_minor": 0,
  "metadata": {
    "colab": {
      "provenance": []
    },
    "kernelspec": {
      "name": "python3",
      "display_name": "Python 3"
    },
    "language_info": {
      "name": "python"
    }
  },
  "cells": [
    {
      "cell_type": "code",
      "execution_count": null,
      "metadata": {
        "id": "ENW0clh5COvo"
      },
      "outputs": [],
      "source": []
    },
    {
      "cell_type": "markdown",
      "source": [
        "#1.What are data structures, and why are they important?\n",
        "\n",
        "**Ans:** Data structures are specialized formats for organizing and storing data in a computer, enabling efficient access and modification. They are important because they allow us to manage and manipulate data effectively, leading to more efficient algorithms and programs. For example, a well-chosen data structure can make a program run faster and use less memory"
      ],
      "metadata": {
        "id": "mjGBN8yHCaIn"
      }
    },
    {
      "cell_type": "markdown",
      "source": [
        "#2. Explain the difference between mutable and immutable data types with examples.\n",
        "\n",
        "**Ans:**Mutable data types can be changed after they are created, while immutable data types cannot.\n",
        "\n",
        "**Mutable Example:** A list is mutable. You can add, remove, or change elements in a list after it's been created.\n",
        "\n",
        "    my_list = [1, 2, 3]\n",
        "my_list.append(4) # The list is modified\n",
        "print(my_list) # Output: [1, 2, 3, 4]\n",
        "\n",
        "\n",
        "**Immutable Example:** A string is immutable. If you try to change a character in a string, you'll actually create a new string in memory.\n",
        "\n",
        "     my_string = \"hello\"\n",
        "**# my_string[0] = \"H\" #** This will raise a TypeError\n",
        "new_string = \"H\" + my_string[1:] # A new string is created\n",
        "print(new_string) # Output: \"Hello\"\n",
        "\n",
        "    "
      ],
      "metadata": {
        "id": "RoqCHXVODgaw"
      }
    },
    {
      "cell_type": "markdown",
      "source": [
        "#3. What are the main differences between lists and tuples in Python?\n",
        "\n",
        "**Ans:** The main difference is mutability. Lists are mutable, meaning their elements can be changed, added, or removed. Tuples are immutable, so their elements cannot be changed after creation. This makes tuples useful for storing data that shouldn't be altered, like coordinates or database records. Lists are good for data that needs to be flexible and dynamic"
      ],
      "metadata": {
        "id": "GDdqA2_ZEdjg"
      }
    },
    {
      "cell_type": "markdown",
      "source": [
        "#4. Describe how dictionaries store data\n",
        "\n",
        "**Ans:** Dictionaries store data as key-value pairs. Each unique key is used to access its corresponding value. Think of it like a physical dictionary where the \"key\" is the word you look up, and the \"value\" is its definition. Keys must be immutable data types (like strings, numbers, or tuples) to be hashable, which allows for fast lookups"
      ],
      "metadata": {
        "id": "Pc0FCIC0EmK0"
      }
    },
    {
      "cell_type": "markdown",
      "source": [
        "#5. Why might you use a set instead of a list in Python?\n",
        "\n",
        "**Ans:** You'd use a set when you need a collection of unique items and the order doesn't matter. Sets automatically handle duplicate values, only storing one instance of each. They also offer very fast membership testing (checking if an item is in the set), which is much faster than doing the same with a list for large datasets"
      ],
      "metadata": {
        "id": "P2xj31NgExDD"
      }
    },
    {
      "cell_type": "markdown",
      "source": [
        "#6. What is a string in Python, and how is it different from a list?\n",
        "\n",
        "**Ans:** **Content**: A string can only contain characters, while a list can hold any data type (integers, strings, even other lists).\n",
        "\n",
        "**Mutability:** Strings are immutable (cannot be changed), whereas lists are mutable (can be changed)"
      ],
      "metadata": {
        "id": "MZlHl0A0E7eY"
      }
    },
    {
      "cell_type": "markdown",
      "source": [
        "#7. How do tuples ensure data integrity in Python?\n",
        "\n",
        "**Ans:** Tuples ensure data integrity because they are immutable. Once a tuple is created, its elements cannot be changed, removed, or added. This prevents accidental modification of the data, guaranteeing that it remains in its original state throughout the program's execution."
      ],
      "metadata": {
        "id": "1ylSk3GSFMNB"
      }
    },
    {
      "cell_type": "markdown",
      "source": [
        "#8. What is a hash table, and how does it relate to dictionaries in Python?\n",
        "\n",
        "**Ans:** A hash table (also known as a hash map) is a data structure that implements an associative array or dictionary. It maps keys to values. Python's dictionaries are implemented using hash tables. This implementation is why dictionary lookups are so fast: a hash function is used to convert the key into a unique \"hash\" or index, which points directly to the memory location where the corresponding value is stored."
      ],
      "metadata": {
        "id": "Zs5WXw2DFXIG"
      }
    },
    {
      "cell_type": "markdown",
      "source": [
        "#9. Can lists contain different data types in Python?\n",
        "\n",
        "**Ans:** Yes, lists in Python can contain different data types. They are heterogeneous, meaning a single list can hold a mix of integers, strings, floats, and even other complex data structures like lists or dictionaries."
      ],
      "metadata": {
        "id": "1fmvvkuUFi3_"
      }
    },
    {
      "cell_type": "markdown",
      "source": [
        "#10. Explain why strings are immutable in Python\n",
        "\n",
        "**Ans:** Strings are immutable in Python primarily for efficiency and security. Since they can't be changed, Python can make certain optimizations, like sharing a single string in memory across multiple variables. Immutability also makes strings \"hashable,\" allowing them to be used as keys in dictionaries, which is not possible with mutable types like lists. This also prevents accidental modification and helps with thread safety."
      ],
      "metadata": {
        "id": "JtsGcUOnF0br"
      }
    },
    {
      "cell_type": "markdown",
      "source": [
        "#11. What advantages do dictionaries offer over lists for certain tasks?\n",
        "\n",
        "**Ans:** Dictionaries offer a significant advantage for tasks that require fast data retrieval based on a key. While lists require you to iterate through elements to find a specific value (a linear search), dictionaries can access values directly using their key, which is much faster (close to constant time, O(1)). This makes them ideal for tasks like counting frequencies, storing user profiles, or mapping IDs to names."
      ],
      "metadata": {
        "id": "_TTTqM4KF7oL"
      }
    },
    {
      "cell_type": "markdown",
      "source": [
        "#12. Describe a scenario where using a tuple would be preferable over a list.\n",
        "\n",
        "**Ans:** A good scenario for using a tuple is when you need to store fixed, unchangeable data, like the coordinates of a point (x,y). For example, if you're writing a game and want to store the positions of static objects on a map, a tuple (10, 25) is a perfect choice. Since the coordinates shouldn't change, using a tuple ensures data integrity and communicates to other programmers that the data is not meant to be modified."
      ],
      "metadata": {
        "id": "ycmpvoihGC_n"
      }
    },
    {
      "cell_type": "markdown",
      "source": [
        "#13. How do sets handle duplicate values in Python?\n",
        "\n",
        "**Ans:** Sets automatically eliminate duplicate values. When you add an item to a set that already exists, the set simply ignores the new addition. This makes sets perfect for tasks like finding all the unique items in a list or quickly removing duplicates from a dataset.\n",
        "\n"
      ],
      "metadata": {
        "id": "s08afSkDGLIx"
      }
    },
    {
      "cell_type": "markdown",
      "source": [
        "#14. How does the \"in\" keyword work differently for lists and dictionaries?\n",
        "\n",
        "**Ans:** The in keyword checks for membership.\n",
        "\n",
        "For lists, item in my_list checks if the item is one of the values in the list. This is a linear search, which can be slow for large lists.\n",
        "\n",
        "For dictionaries, key in my_dict checks if the key is present in the dictionary's keys. This is a very fast, constant-time operation because of how dictionaries are implemented using hash tables.\n"
      ],
      "metadata": {
        "id": "nurC6XneGS4o"
      }
    },
    {
      "cell_type": "markdown",
      "source": [
        "#15. Can you modify the elements of a tuple? Explain why or why not.\n",
        "\n",
        "**Ans:**No, you cannot modify the elements of a tuple because tuples are immutable. Once a tuple is created, its contents are fixed. Any attempt to change an element will result in an error. This immutability is the key characteristic that distinguishes a tuple from a list."
      ],
      "metadata": {
        "id": "NHp_lmwUGb35"
      }
    },
    {
      "cell_type": "markdown",
      "source": [
        "#16. What is a nested dictionary, and give an example of its use case?\n",
        "\n",
        "**Ans:** A nested dictionary is a dictionary where the values are themselves other dictionaries. A great use case is storing structured data, like a database of user information."
      ],
      "metadata": {
        "id": "p_XclATgGxUE"
      }
    },
    {
      "cell_type": "code",
      "source": [
        "# Example of a nested dictionary for user data\n",
        "users = {\n",
        "    \"john_doe\": {\n",
        "        \"email\": \"john.doe@example.com\",\n",
        "        \"age\": 30,\n",
        "        \"city\": \"New York\"\n",
        "    },\n",
        "    \"jane_smith\": {\n",
        "        \"email\": \"jane.smith@example.com\",\n",
        "        \"age\": 25,\n",
        "        \"city\": \"London\"\n",
        "    }\n",
        "}"
      ],
      "metadata": {
        "id": "sEv0lPMzG8PZ"
      },
      "execution_count": 1,
      "outputs": []
    },
    {
      "cell_type": "markdown",
      "source": [
        "#17. Describe the time complexity of accessing elements in a dictionary.\n",
        "\n",
        "**Ans:** The average time complexity of accessing elements in a dictionary is O(1) (constant time). This is because dictionaries are implemented with hash tables, which allow direct, almost instantaneous access to a value once its key is known. In the worst-case scenario (due to hash collisions), it can degrade to O(n), but this is rare in practice with good hash functions."
      ],
      "metadata": {
        "id": "vc9hgeXkHDJb"
      }
    },
    {
      "cell_type": "markdown",
      "source": [
        "#18. In what situations are lists preferred over dictionaries?\n",
        "\n",
        "**Ans:**\n",
        "1.The order of elements matters. Lists maintain insertion order, whereas dictionaries were traditionally unordered (though modern Python versions preserve insertion order).\n",
        "\n",
        "2.You need to store a sequence of items and access them by their position or index.\n",
        "\n",
        "3.You have duplicate items that you want to store and maintain."
      ],
      "metadata": {
        "id": "Tvjxqe9GHSLj"
      }
    },
    {
      "cell_type": "markdown",
      "source": [
        "#19. Why are dictionaries considered unordered, and how does that affect data retrieval?\n",
        "\n",
        "**Ans:** Prior to Python 3.7, dictionaries were considered unordered because they were based on a hash table implementation that did not preserve the order of key-value pairs. This meant that the order in which you inserted items was not guaranteed to be the same as the order in which they were retrieved. For data retrieval, this simply meant that you could not rely on an index or position; you had to use the key to access the value. Since Python 3.7, dictionaries are ordered by default, meaning they preserve the insertion order of keys."
      ],
      "metadata": {
        "id": "93IMhFlxHsJj"
      }
    },
    {
      "cell_type": "markdown",
      "source": [
        "#20. Explain the difference between a list and a dictionary in terms of data retrieval.\n",
        "\n",
        "**Ans:**\n",
        "\n",
        "**List Retrieval:**Data is retrieved by its numerical index (position in the sequence), starting from 0. Accessing a value requires knowing its position.\n",
        "\n",
        "**Dictionary Retrieval:** Data is retrieved by its key. Accessing a value requires knowing its unique key. This is a much more direct and efficient method for retrieving data when the position is not relevant.\n",
        "    \n",
        "    "
      ],
      "metadata": {
        "id": "aV1RW3HUH3lu"
      }
    },
    {
      "cell_type": "markdown",
      "source": [
        "**Practical Questions**"
      ],
      "metadata": {
        "id": "htcU6nL0Qeeh"
      }
    },
    {
      "cell_type": "code",
      "source": [
        "# 1. Create a string with your name and print it\n",
        "name = \"Venu Madhava Reddy\"\n",
        "print(name)"
      ],
      "metadata": {
        "colab": {
          "base_uri": "https://localhost:8080/"
        },
        "id": "4sCNKrnIJvYf",
        "outputId": "eff38f62-6758-4a63-afce-389b8ce9f4fc"
      },
      "execution_count": 2,
      "outputs": [
        {
          "output_type": "stream",
          "name": "stdout",
          "text": [
            "Venu Madhava Reddy\n"
          ]
        }
      ]
    },
    {
      "cell_type": "code",
      "source": [
        "# 2. Find the length of the string \"Hello World\"\n",
        "s = \"Hello World\"\n",
        "print(len(s))"
      ],
      "metadata": {
        "colab": {
          "base_uri": "https://localhost:8080/"
        },
        "id": "o6yM_RFUQasS",
        "outputId": "38b99f96-b127-4ca1-aa4e-087b63603a34"
      },
      "execution_count": 3,
      "outputs": [
        {
          "output_type": "stream",
          "name": "stdout",
          "text": [
            "11\n"
          ]
        }
      ]
    },
    {
      "cell_type": "code",
      "source": [
        "# 3. Slice the first 3 characters from the string \"Python Programming\"\n",
        "text = \"Python Programming\"\n",
        "print(text[:3])"
      ],
      "metadata": {
        "colab": {
          "base_uri": "https://localhost:8080/"
        },
        "id": "dc0Xtt88Q14D",
        "outputId": "1ce3d64c-f743-47a4-e65c-ab996b406ce5"
      },
      "execution_count": 4,
      "outputs": [
        {
          "output_type": "stream",
          "name": "stdout",
          "text": [
            "Pyt\n"
          ]
        }
      ]
    },
    {
      "cell_type": "code",
      "source": [
        "# 4. Convert the string \"hello\" to uppercase\n",
        "word = \"hello\"\n",
        "print(word.upper())"
      ],
      "metadata": {
        "colab": {
          "base_uri": "https://localhost:8080/"
        },
        "id": "TbyHoOejQ5Wj",
        "outputId": "0923e9e3-56cf-476f-be4f-f6244af338cb"
      },
      "execution_count": 5,
      "outputs": [
        {
          "output_type": "stream",
          "name": "stdout",
          "text": [
            "HELLO\n"
          ]
        }
      ]
    },
    {
      "cell_type": "code",
      "source": [
        "# 5. Replace the word \"apple\" with \"orange\" in the string \"I like apple\"\n",
        "sentence = \"I like apple\"\n",
        "print(sentence.replace(\"apple\", \"orange\"))"
      ],
      "metadata": {
        "colab": {
          "base_uri": "https://localhost:8080/"
        },
        "id": "IQjv6u5DQ8yV",
        "outputId": "7d23d378-d8f0-4e0b-d7b9-6f88328d0fcf"
      },
      "execution_count": 6,
      "outputs": [
        {
          "output_type": "stream",
          "name": "stdout",
          "text": [
            "I like orange\n"
          ]
        }
      ]
    },
    {
      "cell_type": "code",
      "source": [
        "# 6. Create a list with numbers 1 to 5 and print it\n",
        "numbers = [1, 2, 3, 4, 5]\n",
        "print(numbers)"
      ],
      "metadata": {
        "colab": {
          "base_uri": "https://localhost:8080/"
        },
        "id": "_ETf-YPiRDVO",
        "outputId": "ce697a28-6ea5-4061-96e4-e52b757c58c0"
      },
      "execution_count": 7,
      "outputs": [
        {
          "output_type": "stream",
          "name": "stdout",
          "text": [
            "[1, 2, 3, 4, 5]\n"
          ]
        }
      ]
    },
    {
      "cell_type": "code",
      "source": [
        "# 7. Append the number 10 to the list [1, 2, 3, 4]\n",
        "lst = [1, 2, 3, 4]\n",
        "lst.append(10)\n",
        "print(lst)"
      ],
      "metadata": {
        "colab": {
          "base_uri": "https://localhost:8080/"
        },
        "id": "-3M0yzJDRDKi",
        "outputId": "0aac1d21-5056-482f-b008-a50c2e03e109"
      },
      "execution_count": 8,
      "outputs": [
        {
          "output_type": "stream",
          "name": "stdout",
          "text": [
            "[1, 2, 3, 4, 10]\n"
          ]
        }
      ]
    },
    {
      "cell_type": "code",
      "source": [
        "# 8. Remove the number 3 from the list [1,2,3,4,5]\n",
        "lst2 = [1, 2, 3, 4, 5]\n",
        "lst2.remove(3)\n",
        "print(lst2)"
      ],
      "metadata": {
        "colab": {
          "base_uri": "https://localhost:8080/"
        },
        "id": "6XLUhuPlRC1J",
        "outputId": "224e3cad-9864-4810-e09a-35f49e0ff738"
      },
      "execution_count": 9,
      "outputs": [
        {
          "output_type": "stream",
          "name": "stdout",
          "text": [
            "[1, 2, 4, 5]\n"
          ]
        }
      ]
    },
    {
      "cell_type": "code",
      "source": [
        "# 9. Access the second element in the list ['a', 'b', 'c', 'd']\n",
        "chars = ['a', 'b', 'c', 'd']\n",
        "print(chars[1])"
      ],
      "metadata": {
        "colab": {
          "base_uri": "https://localhost:8080/"
        },
        "id": "gLJt2qR1RCvz",
        "outputId": "ac338b16-aa8a-472c-c593-85c96a5e0e46"
      },
      "execution_count": 10,
      "outputs": [
        {
          "output_type": "stream",
          "name": "stdout",
          "text": [
            "b\n"
          ]
        }
      ]
    },
    {
      "cell_type": "code",
      "source": [
        "# 10. Reverse the list [10, 20, 30, 40, 50]\n",
        "nums = [10, 20, 30, 40, 50]\n",
        "nums.reverse()\n",
        "print(nums)"
      ],
      "metadata": {
        "colab": {
          "base_uri": "https://localhost:8080/"
        },
        "id": "cZzrL4NBRCrg",
        "outputId": "aa45c4d9-29db-479d-950e-a971e222d4f0"
      },
      "execution_count": 11,
      "outputs": [
        {
          "output_type": "stream",
          "name": "stdout",
          "text": [
            "[50, 40, 30, 20, 10]\n"
          ]
        }
      ]
    },
    {
      "cell_type": "code",
      "source": [
        "# 11. Create a tuple with the elements 100, 200, 300 and print it\n",
        "t = (100, 200, 300)\n",
        "print(t)"
      ],
      "metadata": {
        "colab": {
          "base_uri": "https://localhost:8080/"
        },
        "id": "96HdrPucRCl-",
        "outputId": "4974cf73-9ca9-4681-e34a-f6b72dd87531"
      },
      "execution_count": 12,
      "outputs": [
        {
          "output_type": "stream",
          "name": "stdout",
          "text": [
            "(100, 200, 300)\n"
          ]
        }
      ]
    },
    {
      "cell_type": "code",
      "source": [
        "# 12. Access the second-to-last element of the tuple ('red', 'green', 'blue', 'yellow')\n",
        "colors = ('red', 'green', 'blue', 'yellow')\n",
        "print(colors[-2])"
      ],
      "metadata": {
        "colab": {
          "base_uri": "https://localhost:8080/"
        },
        "id": "8jTyaJO9RChf",
        "outputId": "730a23b5-d442-41e1-b563-26de2a49ced9"
      },
      "execution_count": 13,
      "outputs": [
        {
          "output_type": "stream",
          "name": "stdout",
          "text": [
            "blue\n"
          ]
        }
      ]
    },
    {
      "cell_type": "code",
      "source": [
        "# 13. Find the minimum number in the tuple (10, 20, 5, 15)\n",
        "nums = (10, 20, 5, 15)\n",
        "print(min(nums))"
      ],
      "metadata": {
        "colab": {
          "base_uri": "https://localhost:8080/"
        },
        "id": "_5hG0m_WRCbP",
        "outputId": "b58167b6-129f-4648-8201-30feac662ea8"
      },
      "execution_count": 14,
      "outputs": [
        {
          "output_type": "stream",
          "name": "stdout",
          "text": [
            "5\n"
          ]
        }
      ]
    },
    {
      "cell_type": "code",
      "source": [
        "# 14. Find the index of the element \"cat\" in the tuple ('dog', 'cat', 'rabbit')\n",
        "animals = ('dog', 'cat', 'rabbit')\n",
        "print(animals.index(\"cat\"))"
      ],
      "metadata": {
        "colab": {
          "base_uri": "https://localhost:8080/"
        },
        "id": "lQEXmLvuRCXX",
        "outputId": "ac58e862-c491-4bf5-b44f-5af94e2e4d1f"
      },
      "execution_count": 15,
      "outputs": [
        {
          "output_type": "stream",
          "name": "stdout",
          "text": [
            "1\n"
          ]
        }
      ]
    },
    {
      "cell_type": "code",
      "source": [
        "# 15. Create a tuple with fruits and check if \"kiwi\" is in it\n",
        "fruits = ('apple', 'banana', 'mango')\n",
        "print(\"kiwi\" in fruits)"
      ],
      "metadata": {
        "colab": {
          "base_uri": "https://localhost:8080/"
        },
        "id": "fXZkhD43RlWo",
        "outputId": "9e0a373e-5b03-46a0-82cc-d513acc89ae2"
      },
      "execution_count": 16,
      "outputs": [
        {
          "output_type": "stream",
          "name": "stdout",
          "text": [
            "False\n"
          ]
        }
      ]
    },
    {
      "cell_type": "code",
      "source": [
        "# 16. Create a set with the elements 'a', 'b', 'c' and print it\n",
        "s = {'a', 'b', 'c'}\n",
        "print(s)"
      ],
      "metadata": {
        "colab": {
          "base_uri": "https://localhost:8080/"
        },
        "id": "xFY8DMnpRlLZ",
        "outputId": "b271b38f-6898-44b4-ca68-8564102c9022"
      },
      "execution_count": 17,
      "outputs": [
        {
          "output_type": "stream",
          "name": "stdout",
          "text": [
            "{'b', 'a', 'c'}\n"
          ]
        }
      ]
    },
    {
      "cell_type": "code",
      "source": [
        "# 17. Clear all elements from the set {1, 2, 3, 4, 5}\n",
        "s1 = {1, 2, 3, 4, 5}\n",
        "s1.clear()\n",
        "print(s1)"
      ],
      "metadata": {
        "colab": {
          "base_uri": "https://localhost:8080/"
        },
        "id": "EIi3db5uRlAP",
        "outputId": "94603eed-c45d-464c-a6c5-7d1f818a8d2d"
      },
      "execution_count": 18,
      "outputs": [
        {
          "output_type": "stream",
          "name": "stdout",
          "text": [
            "set()\n"
          ]
        }
      ]
    },
    {
      "cell_type": "code",
      "source": [
        "# 18. Remove the element 4 from the set {1, 2, 3, 4}\n",
        "s2 = {1, 2, 3, 4}\n",
        "s2.remove(4)\n",
        "print(s2)"
      ],
      "metadata": {
        "colab": {
          "base_uri": "https://localhost:8080/"
        },
        "id": "ugfqXnNgRk2x",
        "outputId": "6f851d59-359a-4788-9591-9b1c78e7bdb0"
      },
      "execution_count": 19,
      "outputs": [
        {
          "output_type": "stream",
          "name": "stdout",
          "text": [
            "{1, 2, 3}\n"
          ]
        }
      ]
    },
    {
      "cell_type": "code",
      "source": [
        "# 19. Find the union of two sets {1, 2, 3} and {3, 4, 5}\n",
        "a = {1, 2, 3}\n",
        "b = {3, 4, 5}\n",
        "print(a.union(b))"
      ],
      "metadata": {
        "colab": {
          "base_uri": "https://localhost:8080/"
        },
        "id": "dWPq197BRkq4",
        "outputId": "24c1060b-d77d-4da9-bc14-6b8a14091c5b"
      },
      "execution_count": 20,
      "outputs": [
        {
          "output_type": "stream",
          "name": "stdout",
          "text": [
            "{1, 2, 3, 4, 5}\n"
          ]
        }
      ]
    },
    {
      "cell_type": "code",
      "source": [
        "# 20. Find the intersection of two sets {1, 2, 3} and {2, 3, 4}\n",
        "x = {1, 2, 3}\n",
        "y = {2, 3, 4}\n",
        "print(x.intersection(y))"
      ],
      "metadata": {
        "colab": {
          "base_uri": "https://localhost:8080/"
        },
        "id": "s2MOLvUkRkbU",
        "outputId": "aff1bfa9-e41e-4176-e371-e56a6a44243d"
      },
      "execution_count": 21,
      "outputs": [
        {
          "output_type": "stream",
          "name": "stdout",
          "text": [
            "{2, 3}\n"
          ]
        }
      ]
    },
    {
      "cell_type": "code",
      "source": [
        "# 21. Create a dictionary with keys \"name\", \"age\", \"city\" and print it\n",
        "person = {\"name\": \"John\", \"age\": 25, \"city\": \"New York\"}\n",
        "print(person)"
      ],
      "metadata": {
        "colab": {
          "base_uri": "https://localhost:8080/"
        },
        "id": "WzEaNeh8RkVz",
        "outputId": "3a380017-96a8-46a7-cf9c-72106f94bf1e"
      },
      "execution_count": 22,
      "outputs": [
        {
          "output_type": "stream",
          "name": "stdout",
          "text": [
            "{'name': 'John', 'age': 25, 'city': 'New York'}\n"
          ]
        }
      ]
    },
    {
      "cell_type": "code",
      "source": [
        "# 22. Add a new key-value pair \"country\": \"USA\" to dictionary\n",
        "d = {\"name\": \"John\", \"age\": 25}\n",
        "d[\"country\"] = \"USA\"\n",
        "print(d)"
      ],
      "metadata": {
        "colab": {
          "base_uri": "https://localhost:8080/"
        },
        "id": "8XEB641eRBcg",
        "outputId": "aed5bf8f-a714-48b3-9725-badd67d1612f"
      },
      "execution_count": 23,
      "outputs": [
        {
          "output_type": "stream",
          "name": "stdout",
          "text": [
            "{'name': 'John', 'age': 25, 'country': 'USA'}\n"
          ]
        }
      ]
    },
    {
      "cell_type": "code",
      "source": [
        "# 23. Access the value associated with \"name\"\n",
        "d2 = {\"name\": \"Alice\", \"age\": 30}\n",
        "print(d2[\"name\"])"
      ],
      "metadata": {
        "colab": {
          "base_uri": "https://localhost:8080/"
        },
        "id": "-NkUb3HxRBSF",
        "outputId": "10330904-b26d-41db-8188-4b4c002d0e5d"
      },
      "execution_count": 24,
      "outputs": [
        {
          "output_type": "stream",
          "name": "stdout",
          "text": [
            "Alice\n"
          ]
        }
      ]
    },
    {
      "cell_type": "code",
      "source": [
        "# 24. Remove the key \"age\" from the dictionary\n",
        "d3 = {\"name\": \"Bob\", \"age\": 22, \"city\": \"New York\"}\n",
        "d3.pop(\"age\")\n",
        "print(d3)"
      ],
      "metadata": {
        "colab": {
          "base_uri": "https://localhost:8080/"
        },
        "id": "hDZ5VyQvRBBw",
        "outputId": "b6931d97-26a2-45d4-f725-1319d4f23496"
      },
      "execution_count": 25,
      "outputs": [
        {
          "output_type": "stream",
          "name": "stdout",
          "text": [
            "{'name': 'Bob', 'city': 'New York'}\n"
          ]
        }
      ]
    },
    {
      "cell_type": "code",
      "source": [
        "# 25. Check if the key \"city\" exists in dictionary\n",
        "d4 = {\"name\": \"Alice\", \"city\": \"Paris\"}\n",
        "print(\"city\" in d4)"
      ],
      "metadata": {
        "colab": {
          "base_uri": "https://localhost:8080/"
        },
        "id": "i2sSjTy1SHHI",
        "outputId": "a83aaf3a-9ef6-4141-8ba0-0e2d3fb3738b"
      },
      "execution_count": 26,
      "outputs": [
        {
          "output_type": "stream",
          "name": "stdout",
          "text": [
            "True\n"
          ]
        }
      ]
    },
    {
      "cell_type": "code",
      "source": [
        "# 26. Create a list, tuple, and dictionary, and print them all\n",
        "lst = [1, 2, 3]\n",
        "tpl = (4, 5, 6)\n",
        "dic = {\"a\": 10, \"b\": 20}\n",
        "print(lst, tpl, dic)"
      ],
      "metadata": {
        "colab": {
          "base_uri": "https://localhost:8080/"
        },
        "id": "RIl8KIjhSG7Y",
        "outputId": "3a815b49-4603-4650-9626-aab80e67feb9"
      },
      "execution_count": 27,
      "outputs": [
        {
          "output_type": "stream",
          "name": "stdout",
          "text": [
            "[1, 2, 3] (4, 5, 6) {'a': 10, 'b': 20}\n"
          ]
        }
      ]
    },
    {
      "cell_type": "code",
      "source": [
        "# 27. Create a list of 5 random numbers between 1 and 100, sort, and print\n",
        "import random\n",
        "rand_list = random.sample(range(1, 101), 5)\n",
        "rand_list.sort()\n",
        "print(rand_list)"
      ],
      "metadata": {
        "colab": {
          "base_uri": "https://localhost:8080/"
        },
        "id": "HNS0P4p4SGxS",
        "outputId": "7772d86a-9699-470a-8b09-8d4d87897d32"
      },
      "execution_count": 28,
      "outputs": [
        {
          "output_type": "stream",
          "name": "stdout",
          "text": [
            "[17, 55, 65, 68, 75]\n"
          ]
        }
      ]
    },
    {
      "cell_type": "code",
      "source": [
        "# 28. Create a list with strings and print the element at the third index\n",
        "str_list = [\"apple\", \"banana\", \"cherry\", \"date\", \"kiwi\"]\n",
        "print(str_list[3])"
      ],
      "metadata": {
        "colab": {
          "base_uri": "https://localhost:8080/"
        },
        "id": "9iz-smBuSGlE",
        "outputId": "6f78d4f6-046b-4650-da19-71a498eccc7f"
      },
      "execution_count": 29,
      "outputs": [
        {
          "output_type": "stream",
          "name": "stdout",
          "text": [
            "date\n"
          ]
        }
      ]
    },
    {
      "cell_type": "code",
      "source": [
        "# 29. Combine two dictionaries into one and print\n",
        "d5 = {\"a\": 1, \"b\": 2}\n",
        "d6 = {\"c\": 3, \"d\": 4}\n",
        "d7 = {**d5, **d6}\n",
        "print(d7)"
      ],
      "metadata": {
        "colab": {
          "base_uri": "https://localhost:8080/"
        },
        "id": "15WaEZkZSGal",
        "outputId": "58db6c6a-c7c8-4052-9267-d7c32d538d55"
      },
      "execution_count": 30,
      "outputs": [
        {
          "output_type": "stream",
          "name": "stdout",
          "text": [
            "{'a': 1, 'b': 2, 'c': 3, 'd': 4}\n"
          ]
        }
      ]
    },
    {
      "cell_type": "code",
      "source": [
        "# 30. Convert a list of strings into a set\n",
        "strs = [\"apple\", \"banana\", \"apple\", \"mango\"]\n",
        "print(set(strs))"
      ],
      "metadata": {
        "colab": {
          "base_uri": "https://localhost:8080/"
        },
        "id": "VebO-YgcSGNv",
        "outputId": "58c9a50c-bda4-4266-9fbc-092a39ab4115"
      },
      "execution_count": 31,
      "outputs": [
        {
          "output_type": "stream",
          "name": "stdout",
          "text": [
            "{'apple', 'banana', 'mango'}\n"
          ]
        }
      ]
    }
  ]
}