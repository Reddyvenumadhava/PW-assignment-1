{
  "nbformat": 4,
  "nbformat_minor": 0,
  "metadata": {
    "colab": {
      "provenance": []
    },
    "kernelspec": {
      "name": "python3",
      "display_name": "Python 3"
    },
    "language_info": {
      "name": "python"
    }
  },
  "cells": [
    {
      "cell_type": "markdown",
      "source": [
        "#1. What is Object-Oriented Programming (OOP)?\n",
        "\n",
        "**Ans:** OOP is a programming paradigm that organizes code into objects, which contain data (attributes) and methods (functions) that operate on that data.\n",
        "It helps model real-world entities, improve reusability, and make code modular and maintainable."
      ],
      "metadata": {
        "id": "5nxS2qhjj1_o"
      }
    },
    {
      "cell_type": "markdown",
      "source": [
        "#2. What is a class in OOP?\n",
        "\n",
        "**Ans:** A class is a blueprint or template for creating objects.\n",
        "It defines the attributes (data) and methods (behavior) that its objects will have."
      ],
      "metadata": {
        "id": "LCzQq0Nsj76M"
      }
    },
    {
      "cell_type": "code",
      "source": [
        "class Car:\n",
        "    def __init__(self, brand):\n",
        "        self.brand = brand\n",
        "    def show(self):\n",
        "        print(\"Car brand:\", self.brand)\n"
      ],
      "metadata": {
        "id": "KPj4yCWHmxTs"
      },
      "execution_count": 1,
      "outputs": []
    },
    {
      "cell_type": "markdown",
      "source": [
        "#3. What is an object in OOP?\n",
        "\n",
        "**Ans:** An object is an instance of a class.\n",
        "It represents a specific entity with real data."
      ],
      "metadata": {
        "id": "QplvmYfokAoO"
      }
    },
    {
      "cell_type": "code",
      "source": [
        "c1 = Car(\"Toyota\")  # c1 is an object\n"
      ],
      "metadata": {
        "id": "1Fl_Tn2Dm5Mw"
      },
      "execution_count": null,
      "outputs": []
    },
    {
      "cell_type": "markdown",
      "source": [
        "#4. What is the difference between abstraction and encapsulation?\n",
        "\n",
        "**Ans:**\n",
        "\n",
        "**Abstraction:** Hiding implementation details and showing only necessary features.\n",
        "\n",
        "**Encapsulation:**\tWrapping data and methods into a single unit (class) and restricting direct access to data.\n",
        "\n",
        "Example:\n",
        "\n",
        "Abstraction: Using len() without knowing how it works internally.\n",
        "\n",
        "Encapsulation: Using private variables _x or __x."
      ],
      "metadata": {
        "id": "K4Iri6IDkFfO"
      }
    },
    {
      "cell_type": "markdown",
      "source": [
        "#5. What are dunder methods in Python?\n",
        "\n",
        "**Ans:**\n",
        "\n",
        "Dunder (double underscore) methods are special built-in methods that start and end with __.\n",
        "They define object behavior (also called magic methods).\n",
        "\n",
        "Examples:\n",
        "\n",
        "__init__() → Constructor\n",
        "\n",
        "__str__() → String representation\n",
        "\n",
        "__add__() → Overloads + operator"
      ],
      "metadata": {
        "id": "zIxyrVsxkJ8g"
      }
    },
    {
      "cell_type": "markdown",
      "source": [
        "#6. Explain the concept of inheritance in OOP.\n",
        "\n",
        "**Ans:**\n",
        "\n",
        "Inheritance allows one class (child/subclass) to acquire properties and methods of another class (parent/superclass).\n",
        "It promotes code reuse."
      ],
      "metadata": {
        "id": "yolCmE_7kOq0"
      }
    },
    {
      "cell_type": "code",
      "source": [
        "class Animal:\n",
        "    def sound(self):\n",
        "        print(\"Animal sound\")\n",
        "\n",
        "class Dog(Animal):\n",
        "    def bark(self):\n",
        "        print(\"Dog barks\")\n"
      ],
      "metadata": {
        "id": "LhaKB8uendGE"
      },
      "execution_count": null,
      "outputs": []
    },
    {
      "cell_type": "markdown",
      "source": [
        "#7. What is polymorphism in OOP?\n",
        "\n",
        "**Ans:** Polymorphism means “many forms.”\n",
        "It allows the same function name or operator to behave differently for different classes.\n",
        "\n"
      ],
      "metadata": {
        "id": "aJttrCD3kSZd"
      }
    },
    {
      "cell_type": "code",
      "source": [
        "class Cat:\n",
        "    def sound(self): print(\"Meow\")\n",
        "class Dog:\n",
        "    def sound(self): print(\"Bark\")\n",
        "\n",
        "for animal in [Cat(), Dog()]:\n",
        "    animal.sound()  # Meow, Bark\n"
      ],
      "metadata": {
        "id": "5R0QBCSnniph"
      },
      "execution_count": null,
      "outputs": []
    },
    {
      "cell_type": "markdown",
      "source": [
        "#8. How is encapsulation achieved in Python?\n",
        "\n",
        "**Ans:**\n",
        "\n",
        "Encapsulation is done by using private or protected attributes:\n",
        "\n",
        "_variable → Protected (convention)\n",
        "\n",
        "__variable → Private (name mangling)"
      ],
      "metadata": {
        "id": "emDTCgD0kryc"
      }
    },
    {
      "cell_type": "code",
      "source": [
        "class Student:\n",
        "    def __init__(self, name):\n",
        "        self.__name = name  # private variable\n"
      ],
      "metadata": {
        "id": "dOhDFfR6npSv"
      },
      "execution_count": null,
      "outputs": []
    },
    {
      "cell_type": "markdown",
      "source": [
        "#9. What is a constructor in Python?\n",
        "\n",
        "**Ans:**  __init__() is the constructor.\n",
        "It is automatically called when an object is created, used to initialize attributes\n",
        "\n"
      ],
      "metadata": {
        "id": "wxo6GP8UkzyM"
      }
    },
    {
      "cell_type": "code",
      "source": [
        "class Student:\n",
        "    def __init__(self, name):\n",
        "        self.name = name\n"
      ],
      "metadata": {
        "id": "OMhhCxgGnukw"
      },
      "execution_count": null,
      "outputs": []
    },
    {
      "cell_type": "markdown",
      "source": [
        "#10. What are class and static methods in Python?\n",
        "\n",
        "**Ans:** Class Method (@classmethod) → Works with class-level data.\n",
        "\n",
        "Static Method (@staticmethod) → Does not depend on class or instance data."
      ],
      "metadata": {
        "id": "nIeJ619ik2gV"
      }
    },
    {
      "cell_type": "code",
      "source": [
        "class Example:\n",
        "    count = 0\n",
        "    @classmethod\n",
        "    def show_count(cls):\n",
        "        print(cls.count)\n",
        "    @staticmethod\n",
        "    def greet():\n",
        "        print(\"Hello!\")\n"
      ],
      "metadata": {
        "id": "aqAi9TS2n0Gw"
      },
      "execution_count": null,
      "outputs": []
    },
    {
      "cell_type": "markdown",
      "source": [
        "#11. What is method overloading in Python?\n",
        "\n",
        "**Ans:**  Python doesn’t support traditional overloading — but you can mimic it using default arguments or *args."
      ],
      "metadata": {
        "id": "YgEdkRa7k6SK"
      }
    },
    {
      "cell_type": "code",
      "source": [
        "def add(a, b=0, c=0):\n",
        "    return a + b + c\n"
      ],
      "metadata": {
        "id": "g7cIizLen5lo"
      },
      "execution_count": null,
      "outputs": []
    },
    {
      "cell_type": "markdown",
      "source": [
        "#12. What is method overriding in OOP?\n",
        "\n",
        "**Ans:** Method overriding occurs when a subclass defines a method with the same name as its parent’s method, replacing its behavior."
      ],
      "metadata": {
        "id": "5eZVjlFXk9UA"
      }
    },
    {
      "cell_type": "code",
      "source": [
        "class Parent:\n",
        "    def show(self): print(\"Parent\")\n",
        "\n",
        "class Child(Parent):\n",
        "    def show(self): print(\"Child\")\n"
      ],
      "metadata": {
        "id": "7jW5pVq8n96a"
      },
      "execution_count": null,
      "outputs": []
    },
    {
      "cell_type": "markdown",
      "source": [
        "#13. What is a property decorator in Python?\n",
        "\n",
        "**Ans:** @property turns a method into a read-only attribute.\n",
        "It is used to control access to attributes."
      ],
      "metadata": {
        "id": "sCaOkKCHlDeu"
      }
    },
    {
      "cell_type": "code",
      "source": [
        "class Circle:\n",
        "    def __init__(self, radius):\n",
        "        self._radius = radius\n",
        "\n",
        "    @property\n",
        "    def area(self):\n",
        "        return 3.14 * self._radius ** 2\n"
      ],
      "metadata": {
        "id": "CFxmZbiQoGbc"
      },
      "execution_count": null,
      "outputs": []
    },
    {
      "cell_type": "markdown",
      "source": [
        "#14. Why is polymorphism important in OOP?\n",
        "\n",
        "**Ans:** It allows different classes to use the same interface, making code flexible, reusable, and extensible."
      ],
      "metadata": {
        "id": "yC9vOz3xlIzb"
      }
    },
    {
      "cell_type": "markdown",
      "source": [
        "#15. What is an abstract class in Python?\n",
        "\n",
        "**Ans:**  An abstract class is a class that cannot be instantiated directly and may contain abstract methods.\n",
        "Used via the abc module."
      ],
      "metadata": {
        "id": "hjcDzTzWlMc5"
      }
    },
    {
      "cell_type": "code",
      "source": [
        "from abc import ABC, abstractmethod\n",
        "class Shape(ABC):\n",
        "    @abstractmethod\n",
        "    def area(self):\n",
        "        pass\n"
      ],
      "metadata": {
        "id": "HKgAJAsuoUvr"
      },
      "execution_count": null,
      "outputs": []
    },
    {
      "cell_type": "markdown",
      "source": [
        "#16. What are the advantages of OOP?\n",
        "\n",
        "**Ans:**\n",
        "\n",
        "Code reusability (via inheritance)\n",
        "\n",
        "Modularity\n",
        "\n",
        "Easy maintenance\n",
        "\n",
        "Abstraction of complex systems\n",
        "\n",
        "Improved readability and organization"
      ],
      "metadata": {
        "id": "LMgVRVvklPLL"
      }
    },
    {
      "cell_type": "markdown",
      "source": [
        "#17. What is the difference between a class variable and an instance variable?\n",
        "\n",
        "**Ans:**\n",
        "\n",
        "| Type                  | Defined                       | Shared                | Example     |\n",
        "| --------------------- | ----------------------------- | --------------------- | ----------- |\n",
        "| **Class variable**    | Inside class, outside methods | Shared by all objects | `count = 0` |\n",
        "| **Instance variable** | Inside `__init__()`           | Unique to each object | `self.name` |\n"
      ],
      "metadata": {
        "id": "xGiy57cdlR5-"
      }
    },
    {
      "cell_type": "markdown",
      "source": [
        "#18. What is multiple inheritance in Python?\n",
        "\n",
        "**Ans:**\n",
        "A class can inherit from more than one parent class."
      ],
      "metadata": {
        "id": "A-X-hBA2lU5N"
      }
    },
    {
      "cell_type": "code",
      "source": [
        "class A: pass\n",
        "class B: pass\n",
        "class C(A, B): pass\n"
      ],
      "metadata": {
        "id": "bxovbGVJoozR"
      },
      "execution_count": null,
      "outputs": []
    },
    {
      "cell_type": "markdown",
      "source": [
        "#19. Explain the purpose of \"__str__' and '__repr__'' methods in Python.\n",
        "\n",
        "**Ans:**\n",
        "\n",
        "__str__() → Returns a user-friendly string (for print).\n",
        "\n",
        "__repr__() → Returns a developer-friendly string (for debugging)."
      ],
      "metadata": {
        "id": "56L93263lYFp"
      }
    },
    {
      "cell_type": "code",
      "source": [
        "def __str__(self): return \"Readable\"\n",
        "def __repr__(self): return \"Developer view\"\n"
      ],
      "metadata": {
        "id": "gypaX4w1owAG"
      },
      "execution_count": null,
      "outputs": []
    },
    {
      "cell_type": "markdown",
      "source": [
        "#20. What is the significance of the 'super()' function in Python?\n",
        "\n",
        "**Ans:** super() is used to call methods of a parent class inside a subclass, especially in constructors or overridden methods."
      ],
      "metadata": {
        "id": "8RXa5RnElaiZ"
      }
    },
    {
      "cell_type": "code",
      "source": [
        "class Child(Parent):\n",
        "    def __init__(self):\n",
        "        super().__init__()\n"
      ],
      "metadata": {
        "id": "jkJWfitMo1bz"
      },
      "execution_count": null,
      "outputs": []
    },
    {
      "cell_type": "markdown",
      "source": [
        "#21. What is the significance of the_del__ method in Python?\n",
        "\n",
        "**Ans:** __del__() is a destructor method called when an object is deleted or goes out of scope."
      ],
      "metadata": {
        "id": "EkcT1Jcplflt"
      }
    },
    {
      "cell_type": "code",
      "source": [
        "def __del__(self):\n",
        "    print(\"Object deleted\")\n"
      ],
      "metadata": {
        "id": "TH0pEiauo7Hr"
      },
      "execution_count": null,
      "outputs": []
    },
    {
      "cell_type": "markdown",
      "source": [
        "#22. What is the difference between @staticmethod and @classmethod in Python?\n",
        "\n",
        "**Ans:**\n",
        "\n",
        "| Decorator       | Access                         | Takes Argument     | Use Case                |\n",
        "| --------------- | ------------------------------ | ------------------ | ----------------------- |\n",
        "| `@staticmethod` | No access to class or instance | No `self` or `cls` | Utility methods         |\n",
        "| `@classmethod`  | Access to class only           | Takes `cls`        | Modify class-level data |\n"
      ],
      "metadata": {
        "id": "OnDLo7n1li1c"
      }
    },
    {
      "cell_type": "markdown",
      "source": [
        "#23. How does polymorphism work in Python with inheritance?\n",
        "\n",
        "**Ans:** A subclass can override parent methods, and the correct method is chosen at runtime."
      ],
      "metadata": {
        "id": "Ar1CdT6OllZp"
      }
    },
    {
      "cell_type": "code",
      "source": [
        "class Bird:\n",
        "    def fly(self): print(\"Flies\")\n",
        "class Penguin(Bird):\n",
        "    def fly(self): print(\"Can't fly\")\n",
        "\n",
        "b = Bird(); p = Penguin()\n",
        "for obj in [b, p]:\n",
        "    obj.fly()  # Different output, same method name\n"
      ],
      "metadata": {
        "id": "a_79Rf5MpTWH"
      },
      "execution_count": null,
      "outputs": []
    },
    {
      "cell_type": "markdown",
      "source": [
        "#24. What is method chaining in Python OOP?\n",
        "\n",
        "**Ans:** It allows calling multiple methods sequentially on the same object by returning self in each method."
      ],
      "metadata": {
        "id": "NZYsGIrKloaG"
      }
    },
    {
      "cell_type": "code",
      "source": [
        "class Demo:\n",
        "    def a(self): print(\"A\"); return self\n",
        "    def b(self): print(\"B\"); return self\n",
        "\n",
        "Demo().a().b()\n"
      ],
      "metadata": {
        "id": "KwzCgBGXpZQ_"
      },
      "execution_count": null,
      "outputs": []
    },
    {
      "cell_type": "markdown",
      "source": [
        "#25. What is the purpose of the_call__ method in Python?\n",
        "\n",
        "**Ans:** It makes an object callable like a function"
      ],
      "metadata": {
        "id": "ZpNTOsNslrJl"
      }
    },
    {
      "cell_type": "code",
      "source": [
        "class Greet:\n",
        "    def __call__(self):\n",
        "        print(\"Hello!\")\n",
        "\n",
        "g = Greet()\n",
        "g()  # Calls __call__()\n"
      ],
      "metadata": {
        "colab": {
          "base_uri": "https://localhost:8080/"
        },
        "id": "ZfxyYkMdpekJ",
        "outputId": "0b8e7aaa-2689-4959-e515-8c788eb18a08"
      },
      "execution_count": 2,
      "outputs": [
        {
          "output_type": "stream",
          "name": "stdout",
          "text": [
            "Hello!\n"
          ]
        }
      ]
    },
    {
      "cell_type": "markdown",
      "source": [
        "**Practical Questions**"
      ],
      "metadata": {
        "id": "s3z0BMrPpi9-"
      }
    },
    {
      "cell_type": "markdown",
      "source": [
        "#1. Create a parent class Animal with a method speak() that prints a generic message. Create a child class Dog that overrides the speak() method to print \"Bark"
      ],
      "metadata": {
        "id": "QxxWSmRupuxy"
      }
    },
    {
      "cell_type": "code",
      "source": [
        "class Animal:\n",
        "    def speak(self):\n",
        "        print(\"Animal makes a sound\")\n",
        "\n",
        "class Dog(Animal):\n",
        "    def speak(self):\n",
        "        print(\"Bark\")\n",
        "\n",
        "# Test\n",
        "dog = Dog()\n",
        "dog.speak()\n"
      ],
      "metadata": {
        "colab": {
          "base_uri": "https://localhost:8080/"
        },
        "id": "gkW46TmAr3W5",
        "outputId": "ac4af882-5350-47bb-9917-4b5934651d05"
      },
      "execution_count": 3,
      "outputs": [
        {
          "output_type": "stream",
          "name": "stdout",
          "text": [
            "Bark\n"
          ]
        }
      ]
    },
    {
      "cell_type": "markdown",
      "source": [
        "#2. Write a program to create an abstract class Shape with a method arsa(). Derive classes Circle and Rectangle from it and implement the area() method in both"
      ],
      "metadata": {
        "id": "bFG7Om9tqNTP"
      }
    },
    {
      "cell_type": "code",
      "source": [
        "from abc import ABC, abstractmethod\n",
        "\n",
        "class Shape(ABC):\n",
        "    @abstractmethod\n",
        "    def area(self):\n",
        "        pass\n",
        "\n",
        "class Circle(Shape):\n",
        "    def __init__(self, radius):\n",
        "        self.radius = radius\n",
        "\n",
        "    def area(self):\n",
        "        return 3.14 * self.radius ** 2\n",
        "\n",
        "class Rectangle(Shape):\n",
        "    def __init__(self, length, width):\n",
        "        self.length = length\n",
        "        self.width = width\n",
        "\n",
        "    def area(self):\n",
        "        return self.length * self.width\n",
        "\n",
        "# Test\n",
        "c = Circle(5)\n",
        "r = Rectangle(4, 6)\n",
        "print(\"Circle area:\", c.area())\n",
        "print(\"Rectangle area:\", r.area())\n"
      ],
      "metadata": {
        "colab": {
          "base_uri": "https://localhost:8080/"
        },
        "id": "anYnwJxQr6wE",
        "outputId": "6031a689-8904-4e50-b17e-2d666657ded1"
      },
      "execution_count": 4,
      "outputs": [
        {
          "output_type": "stream",
          "name": "stdout",
          "text": [
            "Circle area: 78.5\n",
            "Rectangle area: 24\n"
          ]
        }
      ]
    },
    {
      "cell_type": "markdown",
      "source": [
        "#3. Implement a multi-level inheritance scenario where a class Vehicle has an attribute type: Derive a class Car and further derive a class ElectricCar that adds a battery attribute"
      ],
      "metadata": {
        "id": "XyXIl5wCqQJg"
      }
    },
    {
      "cell_type": "code",
      "source": [
        "class Vehicle:\n",
        "    def __init__(self, type):\n",
        "        self.type = type\n",
        "\n",
        "class Car(Vehicle):\n",
        "    def __init__(self, type, brand):\n",
        "        super().__init__(type)\n",
        "        self.brand = brand\n",
        "\n",
        "class ElectricCar(Car):\n",
        "    def __init__(self, type, brand, battery):\n",
        "        super().__init__(type, brand)\n",
        "        self.battery = battery\n",
        "\n",
        "# Test\n",
        "ecar = ElectricCar(\"Four Wheeler\", \"Tesla\", \"85kWh\")\n",
        "print(f\"Type: {ecar.type}, Brand: {ecar.brand}, Battery: {ecar.battery}\")\n"
      ],
      "metadata": {
        "colab": {
          "base_uri": "https://localhost:8080/"
        },
        "id": "ArW8Wh1Dr-om",
        "outputId": "2b16d95a-41b0-4f9b-965b-2b7a0bb003b8"
      },
      "execution_count": 5,
      "outputs": [
        {
          "output_type": "stream",
          "name": "stdout",
          "text": [
            "Type: Four Wheeler, Brand: Tesla, Battery: 85kWh\n"
          ]
        }
      ]
    },
    {
      "cell_type": "markdown",
      "source": [
        "#4. Demonstrate polymorphism by creating a base class Bird with a method fly(), Create two derived classes Sparrow and Penguin that override the fly() method"
      ],
      "metadata": {
        "id": "ig4RT76pqTIX"
      }
    },
    {
      "cell_type": "code",
      "source": [
        "class Bird:\n",
        "    def fly(self):\n",
        "        print(\"Birds can fly\")\n",
        "\n",
        "class Sparrow(Bird):\n",
        "    def fly(self):\n",
        "        print(\"Sparrow flies high\")\n",
        "\n",
        "class Penguin(Bird):\n",
        "    def fly(self):\n",
        "        print(\"Penguins cannot fly\")\n",
        "\n",
        "# Test\n",
        "for bird in [Sparrow(), Penguin()]:\n",
        "    bird.fly()\n"
      ],
      "metadata": {
        "colab": {
          "base_uri": "https://localhost:8080/"
        },
        "id": "bMy_ufASsCV8",
        "outputId": "b4a1c9d6-a1d0-4efc-a481-0872d4965df6"
      },
      "execution_count": 6,
      "outputs": [
        {
          "output_type": "stream",
          "name": "stdout",
          "text": [
            "Sparrow flies high\n",
            "Penguins cannot fly\n"
          ]
        }
      ]
    },
    {
      "cell_type": "markdown",
      "source": [
        "#5. Write a program to demonstrate encapsulation by creating a class BankAccount with private attributes balance and methods to deposit, withdraw, and check balance."
      ],
      "metadata": {
        "id": "xNTMjLKFqWYq"
      }
    },
    {
      "cell_type": "code",
      "source": [
        "class BankAccount:\n",
        "    def __init__(self, balance=0):\n",
        "        self.__balance = balance  # private variable\n",
        "\n",
        "    def deposit(self, amount):\n",
        "        self.__balance += amount\n",
        "\n",
        "    def withdraw(self, amount):\n",
        "        if amount <= self.__balance:\n",
        "            self.__balance -= amount\n",
        "        else:\n",
        "            print(\"Insufficient balance!\")\n",
        "\n",
        "    def check_balance(self):\n",
        "        print(\"Current Balance:\", self.__balance)\n",
        "\n",
        "# Test\n",
        "acc = BankAccount(1000)\n",
        "acc.deposit(500)\n",
        "acc.withdraw(300)\n",
        "acc.check_balance()\n"
      ],
      "metadata": {
        "colab": {
          "base_uri": "https://localhost:8080/"
        },
        "id": "SYyWzF99sFku",
        "outputId": "87fc51c4-5d91-41e6-ff20-edc1ff5d9ab4"
      },
      "execution_count": 7,
      "outputs": [
        {
          "output_type": "stream",
          "name": "stdout",
          "text": [
            "Current Balance: 1200\n"
          ]
        }
      ]
    },
    {
      "cell_type": "markdown",
      "source": [
        "#6. Demonstrate runtime polymorphism using a method play() in a base class instrument. Derive classes Guitar and Piano that implement their own version of play()"
      ],
      "metadata": {
        "id": "S8djEZ2BqZMb"
      }
    },
    {
      "cell_type": "code",
      "source": [
        "class Instrument:\n",
        "    def play(self):\n",
        "        print(\"Playing an instrument\")\n",
        "\n",
        "class Guitar(Instrument):\n",
        "    def play(self):\n",
        "        print(\"Playing Guitar\")\n",
        "\n",
        "class Piano(Instrument):\n",
        "    def play(self):\n",
        "        print(\"Playing Piano\")\n",
        "\n",
        "# Test\n",
        "for i in [Guitar(), Piano()]:\n",
        "    i.play()\n"
      ],
      "metadata": {
        "colab": {
          "base_uri": "https://localhost:8080/"
        },
        "id": "ADQFA6ytsNwf",
        "outputId": "3dfcec29-8f46-40ba-e503-97df5b4074fa"
      },
      "execution_count": 8,
      "outputs": [
        {
          "output_type": "stream",
          "name": "stdout",
          "text": [
            "Playing Guitar\n",
            "Playing Piano\n"
          ]
        }
      ]
    },
    {
      "cell_type": "markdown",
      "source": [
        "#7. Create a class Math Operations with a class method add numbers() to add two numbers and a static method subtract_numbers() to subtract two numbers"
      ],
      "metadata": {
        "id": "y_z6weZWqcuu"
      }
    },
    {
      "cell_type": "code",
      "source": [
        "class MathOperations:\n",
        "    @classmethod\n",
        "    def add_numbers(cls, a, b):\n",
        "        return a + b\n",
        "\n",
        "    @staticmethod\n",
        "    def subtract_numbers(a, b):\n",
        "        return a - b\n",
        "\n",
        "# Test\n",
        "print(MathOperations.add_numbers(5, 3))\n",
        "print(MathOperations.subtract_numbers(10, 4))\n"
      ],
      "metadata": {
        "colab": {
          "base_uri": "https://localhost:8080/"
        },
        "id": "sQ9UICtVsQG4",
        "outputId": "b85a2e8f-be85-44cb-f1c7-a7e86eb4c6b0"
      },
      "execution_count": 9,
      "outputs": [
        {
          "output_type": "stream",
          "name": "stdout",
          "text": [
            "8\n",
            "6\n"
          ]
        }
      ]
    },
    {
      "cell_type": "markdown",
      "source": [
        "#8. Implement a class Person with a class method to count the total number of persons created."
      ],
      "metadata": {
        "id": "MzPVYvUJqgt7"
      }
    },
    {
      "cell_type": "code",
      "source": [
        "class Person:\n",
        "    count = 0\n",
        "\n",
        "    def __init__(self, name):\n",
        "        self.name = name\n",
        "        Person.count += 1\n",
        "\n",
        "    @classmethod\n",
        "    def total_persons(cls):\n",
        "        return cls.count\n",
        "\n",
        "# Test\n",
        "p1 = Person(\"Alice\")\n",
        "p2 = Person(\"Bob\")\n",
        "print(\"Total persons:\", Person.total_persons())\n"
      ],
      "metadata": {
        "colab": {
          "base_uri": "https://localhost:8080/"
        },
        "id": "4vBEexDRsT2u",
        "outputId": "14773959-5eea-4108-ab4c-80292363b85c"
      },
      "execution_count": 10,
      "outputs": [
        {
          "output_type": "stream",
          "name": "stdout",
          "text": [
            "Total persons: 2\n"
          ]
        }
      ]
    },
    {
      "cell_type": "markdown",
      "source": [
        "#9. Write a class Fraction with attributes numerator and denominator. Override the str method to display the fraction as numerator/denominator"
      ],
      "metadata": {
        "id": "DWOi4Cdqqjle"
      }
    },
    {
      "cell_type": "code",
      "source": [
        "class Fraction:\n",
        "    def __init__(self, numerator, denominator):\n",
        "        self.numerator = numerator\n",
        "        self.denominator = denominator\n",
        "\n",
        "    def __str__(self):\n",
        "        return f\"{self.numerator}/{self.denominator}\"\n",
        "\n",
        "# Test\n",
        "f = Fraction(3, 4)\n",
        "print(f)\n"
      ],
      "metadata": {
        "colab": {
          "base_uri": "https://localhost:8080/"
        },
        "id": "NAu5niy9sVsS",
        "outputId": "a9cd5eee-9998-4deb-a54a-edba26fee828"
      },
      "execution_count": 11,
      "outputs": [
        {
          "output_type": "stream",
          "name": "stdout",
          "text": [
            "3/4\n"
          ]
        }
      ]
    },
    {
      "cell_type": "markdown",
      "source": [
        "#10. Demonstrate operator overloading by creating a class Vector and overriding the add method to add two vectors"
      ],
      "metadata": {
        "id": "2OD-mY1Lqu7N"
      }
    },
    {
      "cell_type": "code",
      "source": [
        "class Vector:\n",
        "    def __init__(self, x, y):\n",
        "        self.x = x\n",
        "        self.y = y\n",
        "\n",
        "    def __add__(self, other):\n",
        "        return Vector(self.x + other.x, self.y + other.y)\n",
        "\n",
        "    def __str__(self):\n",
        "        return f\"({self.x}, {self.y})\"\n",
        "\n",
        "# Test\n",
        "v1 = Vector(2, 3)\n",
        "v2 = Vector(4, 5)\n",
        "print(v1 + v2)\n"
      ],
      "metadata": {
        "colab": {
          "base_uri": "https://localhost:8080/"
        },
        "id": "5ugyRClusodW",
        "outputId": "ba5738f5-42b7-4a2e-a8a8-84db21ac1258"
      },
      "execution_count": 12,
      "outputs": [
        {
          "output_type": "stream",
          "name": "stdout",
          "text": [
            "(6, 8)\n"
          ]
        }
      ]
    },
    {
      "cell_type": "markdown",
      "source": [
        "#11. Create a class Person with attributes name and age. Add a method greet() that prints \"Hello, my name is {name) and I am (age) years old\""
      ],
      "metadata": {
        "id": "o-IgoON-qyDJ"
      }
    },
    {
      "cell_type": "code",
      "source": [
        "class Person:\n",
        "    def __init__(self, name, age):\n",
        "        self.name = name\n",
        "        self.age = age\n",
        "\n",
        "    def greet(self):\n",
        "        print(f\"Hello, my name is {self.name} and I am {self.age} years old\")\n",
        "\n",
        "# Test\n",
        "p = Person(\"John\", 25)\n",
        "p.greet()\n"
      ],
      "metadata": {
        "colab": {
          "base_uri": "https://localhost:8080/"
        },
        "id": "eUPwSoytstjJ",
        "outputId": "3d33ba82-0086-4676-d99f-c7e496291355"
      },
      "execution_count": 13,
      "outputs": [
        {
          "output_type": "stream",
          "name": "stdout",
          "text": [
            "Hello, my name is John and I am 25 years old\n"
          ]
        }
      ]
    },
    {
      "cell_type": "markdown",
      "source": [
        "#12. Implement a class Student with attributes name and grades. Create a method average grade() to compute the average of the grades."
      ],
      "metadata": {
        "id": "i6cPn6eeq1JG"
      }
    },
    {
      "cell_type": "code",
      "source": [
        "class Student:\n",
        "    def __init__(self, name, grades):\n",
        "        self.name = name\n",
        "        self.grades = grades\n",
        "\n",
        "    def average_grade(self):\n",
        "        return sum(self.grades) / len(self.grades)\n",
        "\n",
        "# Test\n",
        "s = Student(\"Ben\", [85, 90, 80])\n",
        "print(\"Average Grade:\", s.average_grade())\n"
      ],
      "metadata": {
        "colab": {
          "base_uri": "https://localhost:8080/"
        },
        "id": "huYRCSNwswCh",
        "outputId": "6d9bf50a-539a-4acd-c24a-ef82330f6a82"
      },
      "execution_count": 14,
      "outputs": [
        {
          "output_type": "stream",
          "name": "stdout",
          "text": [
            "Average Grade: 85.0\n"
          ]
        }
      ]
    },
    {
      "cell_type": "markdown",
      "source": [
        "#13. Create a class Rectangle with methods set dimensions() to set the dimensions and area() to calculate the area."
      ],
      "metadata": {
        "id": "DsBwLLZpq4Xo"
      }
    },
    {
      "cell_type": "code",
      "source": [
        "class Rectangle:\n",
        "    def set_dimensions(self, length, width):\n",
        "        self.length = length\n",
        "        self.width = width\n",
        "\n",
        "    def area(self):\n",
        "        return self.length * self.width\n",
        "\n",
        "# Test\n",
        "r = Rectangle()\n",
        "r.set_dimensions(5, 3)\n",
        "print(\"Area:\", r.area())\n"
      ],
      "metadata": {
        "colab": {
          "base_uri": "https://localhost:8080/"
        },
        "id": "L8HPpP8cszk7",
        "outputId": "e010df36-8fd2-4970-e6a6-7f70c971866f"
      },
      "execution_count": 15,
      "outputs": [
        {
          "output_type": "stream",
          "name": "stdout",
          "text": [
            "Area: 15\n"
          ]
        }
      ]
    },
    {
      "cell_type": "markdown",
      "source": [
        "#14. Create a class Employee with a method calculate_salary() that computes the salary based on hours worked and hourly rate. Create a derived class Manager that adds a bonus to the salary."
      ],
      "metadata": {
        "id": "mArjBfD4q_ZS"
      }
    },
    {
      "cell_type": "code",
      "source": [
        "class Employee:\n",
        "    def __init__(self, hours, rate):\n",
        "        self.hours = hours\n",
        "        self.rate = rate\n",
        "\n",
        "    def calculate_salary(self):\n",
        "        return self.hours * self.rate\n",
        "\n",
        "class Manager(Employee):\n",
        "    def __init__(self, hours, rate, bonus):\n",
        "        super().__init__(hours, rate)\n",
        "        self.bonus = bonus\n",
        "\n",
        "    def calculate_salary(self):\n",
        "        return super().calculate_salary() + self.bonus\n",
        "\n",
        "# Test\n",
        "m = Manager(40, 100, 2000)\n",
        "print(\"Total Salary:\", m.calculate_salary())\n"
      ],
      "metadata": {
        "colab": {
          "base_uri": "https://localhost:8080/"
        },
        "id": "ORTYmFyis112",
        "outputId": "ae9c6d01-2d7b-426c-b658-2c79abbf5979"
      },
      "execution_count": 16,
      "outputs": [
        {
          "output_type": "stream",
          "name": "stdout",
          "text": [
            "Total Salary: 6000\n"
          ]
        }
      ]
    },
    {
      "cell_type": "markdown",
      "source": [
        "#15. Create a class Product with attributes name, price, and quantity. Implement a method total_price() that calculates the total price of the product."
      ],
      "metadata": {
        "id": "WksmjLn-rVwe"
      }
    },
    {
      "cell_type": "code",
      "source": [
        "class Product:\n",
        "    def __init__(self, name, price, quantity):\n",
        "        self.name = name\n",
        "        self.price = price\n",
        "        self.quantity = quantity\n",
        "\n",
        "    def total_price(self):\n",
        "        return self.price * self.quantity\n",
        "\n",
        "# Test\n",
        "p = Product(\"Laptop\", 50000, 2)\n",
        "print(\"Total Price:\", p.total_price())\n"
      ],
      "metadata": {
        "colab": {
          "base_uri": "https://localhost:8080/"
        },
        "id": "dk8HF8-Ls72r",
        "outputId": "4638953a-d843-48d0-cabb-0523b3b959dc"
      },
      "execution_count": 17,
      "outputs": [
        {
          "output_type": "stream",
          "name": "stdout",
          "text": [
            "Total Price: 100000\n"
          ]
        }
      ]
    },
    {
      "cell_type": "markdown",
      "source": [
        "#16. Create a class Animal with an abstract method sound(). Create two derived classes Cow and Sheep that implement the sound() method."
      ],
      "metadata": {
        "id": "aCFRYiyLrZFp"
      }
    },
    {
      "cell_type": "code",
      "source": [
        "from abc import ABC, abstractmethod\n",
        "\n",
        "class Animal(ABC):\n",
        "    @abstractmethod\n",
        "    def sound(self):\n",
        "        pass\n",
        "\n",
        "class Cow(Animal):\n",
        "    def sound(self):\n",
        "        print(\"Moo\")\n",
        "\n",
        "class Sheep(Animal):\n",
        "    def sound(self):\n",
        "        print(\"Baa\")\n",
        "\n",
        "# Test\n",
        "Cow().sound()\n",
        "Sheep().sound()\n"
      ],
      "metadata": {
        "colab": {
          "base_uri": "https://localhost:8080/"
        },
        "id": "6PVFQyDts_cy",
        "outputId": "4a316a17-8a27-4774-d238-49f0b35be282"
      },
      "execution_count": 18,
      "outputs": [
        {
          "output_type": "stream",
          "name": "stdout",
          "text": [
            "Moo\n",
            "Baa\n"
          ]
        }
      ]
    },
    {
      "cell_type": "markdown",
      "source": [
        "#17. Create a class Book with attributes title, author, and year_published. Add a method get_book_info() that returns a formatted string with the book's details."
      ],
      "metadata": {
        "id": "68CAe6H9rd8x"
      }
    },
    {
      "cell_type": "code",
      "source": [
        "class Book:\n",
        "    def __init__(self, title, author, year_published):\n",
        "        self.title = title\n",
        "        self.author = author\n",
        "        self.year_published = year_published\n",
        "\n",
        "    def get_book_info(self):\n",
        "        return f\"'{self.title}' by {self.author}, published in {self.year_published}\"\n",
        "\n",
        "# Test\n",
        "b = Book(\"1984\", \"George Orwell\", 1949)\n",
        "print(b.get_book_info())\n"
      ],
      "metadata": {
        "colab": {
          "base_uri": "https://localhost:8080/"
        },
        "id": "k4GOX6-1tCfj",
        "outputId": "4c396c8a-49fc-4aef-b530-7423582376ae"
      },
      "execution_count": 19,
      "outputs": [
        {
          "output_type": "stream",
          "name": "stdout",
          "text": [
            "'1984' by George Orwell, published in 1949\n"
          ]
        }
      ]
    },
    {
      "cell_type": "markdown",
      "source": [
        "#18. Create a class House with attributes address and price. Create a derived class Mansion that adds an attribute number_of_rooms."
      ],
      "metadata": {
        "id": "7ia9Y64JrhYG"
      }
    },
    {
      "cell_type": "code",
      "source": [
        "class House:\n",
        "    def __init__(self, address, price):\n",
        "        self.address = address\n",
        "        self.price = price\n",
        "\n",
        "class Mansion(House):\n",
        "    def __init__(self, address, price, number_of_rooms):\n",
        "        super().__init__(address, price)\n",
        "        self.number_of_rooms = number_of_rooms\n",
        "\n",
        "# Test\n",
        "m = Mansion(\"123 Street\", 5000000, 10)\n",
        "print(f\"Address: {m.address}, Price: {m.price}, Rooms: {m.number_of_rooms}\")\n"
      ],
      "metadata": {
        "colab": {
          "base_uri": "https://localhost:8080/"
        },
        "id": "NxfqHgsNtG38",
        "outputId": "771834ed-9992-44fd-808b-9fa8541fb116"
      },
      "execution_count": 20,
      "outputs": [
        {
          "output_type": "stream",
          "name": "stdout",
          "text": [
            "Address: 123 Street, Price: 5000000, Rooms: 10\n"
          ]
        }
      ]
    }
  ]
}