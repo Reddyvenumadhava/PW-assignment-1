{
  "nbformat": 4,
  "nbformat_minor": 0,
  "metadata": {
    "colab": {
      "provenance": []
    },
    "kernelspec": {
      "name": "python3",
      "display_name": "Python 3"
    },
    "language_info": {
      "name": "python"
    }
  },
  "cells": [
    {
      "cell_type": "code",
      "execution_count": null,
      "metadata": {
        "id": "VPmrEL1a8q0_"
      },
      "outputs": [],
      "source": []
    },
    {
      "cell_type": "markdown",
      "source": [
        "# **1. What is Python, and why is it popular?**\n",
        " **Ans:** Python is a high-level, interpreted, object-oriented programming      language   known for its simplicity and readability.\n",
        "\n",
        "It’s popular because of:\n",
        "\n",
        "Easy syntax (like English).\n",
        "\n",
        "Large community support.\n",
        "\n",
        "Rich libraries and frameworks (AI, ML, Web, etc.).\n",
        "\n",
        "Cross-platform compatibility."
      ],
      "metadata": {
        "id": "u-g51uei9Ds2"
      }
    },
    {
      "cell_type": "markdown",
      "source": [
        "#2. What is an interpreter in Python?\n",
        "**Ans:** An interpreter executes Python code line by line, converting it into machine code during runtime. Unlike compilers, it doesn’t generate a separate executable file."
      ],
      "metadata": {
        "id": "LHOCI_r297z-"
      }
    },
    {
      "cell_type": "markdown",
      "source": [
        "#3. What are pre-defined keywords in Python?\n",
        "**Ans:** Keywords are reserved words in Python that have special meaning and cannot be used as identifiers (like if, while, class, True, etc.)."
      ],
      "metadata": {
        "id": "pRTNf02j-Iqr"
      }
    },
    {
      "cell_type": "markdown",
      "source": [
        "#4. Can keywords be used as variable names?\n",
        "**Ans:** No. Keywords cannot be used as variable names because they already have predefined meanings in Python."
      ],
      "metadata": {
        "id": "pRz1ANNL-YB3"
      }
    },
    {
      "cell_type": "markdown",
      "source": [
        "#5. What is mutability in Python?\n",
        "**Ans:** Mutability means whether an object can be changed after creation.\n",
        "\n",
        "Mutable objects : can be modified (e.g., list, dict, set).\n",
        "\n",
        "Immutable objects : cannot be modified (e.g., tuple, str, int)."
      ],
      "metadata": {
        "id": "_AX3qs-K-ifC"
      }
    },
    {
      "cell_type": "markdown",
      "source": [
        "#6. Why are lists mutable, but tuples are immutable?\n",
        "**Ans:** Lists : Designed for dynamic changes (adding, removing, updating).\n",
        "\n",
        "Tuples : Designed to be fixed collections, so Python makes them immutable for safety and performance."
      ],
      "metadata": {
        "id": "K1gbK1DA-x0Z"
      }
    },
    {
      "cell_type": "markdown",
      "source": [
        "#7. What is the difference between == and is operators in Python?\n",
        "**Ans**: == : Checks value equality (do they have the   same value?).\n",
        "\n",
        "is : Checks identity equality (do they point to the same memory location?)."
      ],
      "metadata": {
        "id": "yHN_ut7k_AnM"
      }
    },
    {
      "cell_type": "markdown",
      "source": [
        "#8. What are logical operators in Python?\n",
        "**Ans**: Logical operators combine conditions:\n",
        "\n",
        "  and : True if both conditions are true.\n",
        "\n",
        "  or : True if at least one condition is true.\n",
        "\n",
        "  not : Reverses the condition."
      ],
      "metadata": {
        "id": "Vofr05tY_cri"
      }
    },
    {
      "cell_type": "markdown",
      "source": [
        "#9. What is type casting in Python?\n",
        "**Ans:** Type casting means converting one data type into another (e.g., string → integer)."
      ],
      "metadata": {
        "id": "SJjLid75AYHt"
      }
    },
    {
      "cell_type": "markdown",
      "source": [
        "#10. What is the difference between implicit and explicit type casting?\n",
        "**Ans:** Implicit (Type Conversion) → Done automatically by Python (e.g., int → float).\n",
        "\n",
        "Explicit (Type Casting) → Done manually using functions (int(), float(), str())."
      ],
      "metadata": {
        "id": "3iydCiLoAjO_"
      }
    },
    {
      "cell_type": "markdown",
      "source": [
        "#11. What is the purpose of conditional statements in Python?\n",
        "**Ans:** They allow decision-making in code. Example: execute certain blocks only if a condition is true (if, elif, else)."
      ],
      "metadata": {
        "id": "2vsSVkhSAwsF"
      }
    },
    {
      "cell_type": "markdown",
      "source": [
        "#12. How does the elif statement work?\n",
        "**Ans:** elif checks multiple conditions sequentially. If one is true, it executes that block and skips the rest"
      ],
      "metadata": {
        "id": "zImqfrteA52m"
      }
    },
    {
      "cell_type": "markdown",
      "source": [
        "#13. What is the difference between for and while loops?\n",
        "**Ans:** for loop → Iterates over a sequence (fixed number of times).\n",
        "\n",
        "while loop → Runs until a condition becomes false (unknown iterations)."
      ],
      "metadata": {
        "id": "Y_nBxhySBDwH"
      }
    },
    {
      "cell_type": "markdown",
      "source": [
        "#14. Describe a scenario where a while loop is more suitable than a for loop.\n",
        "**Ans:** Example: Reading input until the user types \"exit\". Since the number of iterations is unknown, a while loop is better."
      ],
      "metadata": {
        "id": "uVHzCy39B14D"
      }
    },
    {
      "cell_type": "markdown",
      "source": [
        "#Practical Questions"
      ],
      "metadata": {
        "id": "hBvoYNB1B-vd"
      }
    },
    {
      "cell_type": "code",
      "source": [
        "#1. Write a Python program to print \"Hello, World!\"\n",
        "print(\"Hello, World!\")"
      ],
      "metadata": {
        "colab": {
          "base_uri": "https://localhost:8080/"
        },
        "id": "OVVGgYrGCFkD",
        "outputId": "78801623-30d1-4911-8bc0-6a0a1a78c015"
      },
      "execution_count": 1,
      "outputs": [
        {
          "output_type": "stream",
          "name": "stdout",
          "text": [
            "Hello, World!\n"
          ]
        }
      ]
    },
    {
      "cell_type": "code",
      "source": [
        "#2. Write a Python program that displays your narne and age.\n",
        "name = \"venu\"\n",
        "age = 21\n",
        "print(\"Name:\", name)\n",
        "print(\"Age:\", age)\n"
      ],
      "metadata": {
        "colab": {
          "base_uri": "https://localhost:8080/"
        },
        "id": "xHGp_72PCVzg",
        "outputId": "03d7041a-209a-4017-c719-d15e3e87f27b"
      },
      "execution_count": 2,
      "outputs": [
        {
          "output_type": "stream",
          "name": "stdout",
          "text": [
            "Name: venu\n",
            "Age: 21\n"
          ]
        }
      ]
    },
    {
      "cell_type": "code",
      "source": [
        "#3. Write code to print all the pre-defined keywords in Python using the keyword library.\n",
        "import keyword\n",
        "print(keyword.kwlist)\n"
      ],
      "metadata": {
        "colab": {
          "base_uri": "https://localhost:8080/"
        },
        "id": "FEo6xB_WCqQ-",
        "outputId": "49ee6b30-1985-41e2-ac58-0458629010dc"
      },
      "execution_count": 3,
      "outputs": [
        {
          "output_type": "stream",
          "name": "stdout",
          "text": [
            "['False', 'None', 'True', 'and', 'as', 'assert', 'async', 'await', 'break', 'class', 'continue', 'def', 'del', 'elif', 'else', 'except', 'finally', 'for', 'from', 'global', 'if', 'import', 'in', 'is', 'lambda', 'nonlocal', 'not', 'or', 'pass', 'raise', 'return', 'try', 'while', 'with', 'yield']\n"
          ]
        }
      ]
    },
    {
      "cell_type": "code",
      "source": [
        "#4. Write a program that checks if a given word is a Python keyword.\n",
        "import keyword\n",
        "word = input(\"Enter a word: \")\n",
        "if keyword.iskeyword(word):\n",
        "    print(f\"{word} is a Python keyword.\")\n",
        "else:\n",
        "    print(f\"{word} is not a Python keyword.\")\n"
      ],
      "metadata": {
        "colab": {
          "base_uri": "https://localhost:8080/"
        },
        "id": "mPc7KI7iDJu8",
        "outputId": "8f4d0f8e-988e-42c9-b16c-f86a53f87550"
      },
      "execution_count": 4,
      "outputs": [
        {
          "output_type": "stream",
          "name": "stdout",
          "text": [
            "Enter a word: venu\n",
            "venu is not a Python keyword.\n"
          ]
        }
      ]
    },
    {
      "cell_type": "code",
      "source": [
        "#5. Create a list and tuple in Python, and demonstrate how attempting to change an element works differently for each.\n",
        "my_list = [1, 2, 3]\n",
        "my_tuple = (1, 2, 3)\n",
        "\n",
        "my_list[0] = 10  # Works\n",
        "print(\"Modified list:\", my_list)\n",
        "\n",
        "try:\n",
        "    my_tuple[0] = 10  # Error\n",
        "except TypeError:\n",
        "    print(\"Tuples are immutable!\")\n"
      ],
      "metadata": {
        "colab": {
          "base_uri": "https://localhost:8080/"
        },
        "id": "15rFAcf7Ddcj",
        "outputId": "c08e82d8-ead0-45c6-fbe2-464c5e1605c1"
      },
      "execution_count": 5,
      "outputs": [
        {
          "output_type": "stream",
          "name": "stdout",
          "text": [
            "Modified list: [10, 2, 3]\n",
            "Tuples are immutable!\n"
          ]
        }
      ]
    },
    {
      "cell_type": "code",
      "source": [
        "#6. Write a function to demonstrate the behavior of mutable and immutable arguments\n",
        "def modify_list(lst):\n",
        "    lst.append(100)  # changes original list\n",
        "\n",
        "def modify_number(num):\n",
        "    num += 10  # creates a new int\n",
        "\n",
        "my_list = [1, 2, 3]\n",
        "my_num = 5\n",
        "\n",
        "modify_list(my_list)\n",
        "modify_number(my_num)\n",
        "\n",
        "print(\"List after function:\", my_list)\n",
        "print(\"Number after function:\", my_num)\n"
      ],
      "metadata": {
        "colab": {
          "base_uri": "https://localhost:8080/"
        },
        "id": "XcfhiE_qDl-4",
        "outputId": "c0a32034-a233-4a15-f290-7618071f17b4"
      },
      "execution_count": 6,
      "outputs": [
        {
          "output_type": "stream",
          "name": "stdout",
          "text": [
            "List after function: [1, 2, 3, 100]\n",
            "Number after function: 5\n"
          ]
        }
      ]
    },
    {
      "cell_type": "code",
      "source": [
        "#7. Write a program that performs basic arithmetic operations on two user-input numbers.\n",
        "a = int(input(\"Enter first number: \"))\n",
        "b = int(input(\"Enter second number: \"))\n",
        "\n",
        "print(\"Sum:\", a + b)\n",
        "print(\"Difference:\", a - b)\n",
        "print(\"Product:\", a * b)\n",
        "print(\"Quotient:\", a / b)\n"
      ],
      "metadata": {
        "colab": {
          "base_uri": "https://localhost:8080/"
        },
        "id": "tupsyHVKDjch",
        "outputId": "2aa1b295-5bb3-457e-ca37-f6be281993c6"
      },
      "execution_count": 7,
      "outputs": [
        {
          "output_type": "stream",
          "name": "stdout",
          "text": [
            "Enter first number: 23\n",
            "Enter second number: 44\n",
            "Sum: 67\n",
            "Difference: -21\n",
            "Product: 1012\n",
            "Quotient: 0.5227272727272727\n"
          ]
        }
      ]
    },
    {
      "cell_type": "code",
      "source": [
        "#8. Write a program to demonstrate the use of logical operators.\n",
        "x = True\n",
        "y = False\n",
        "print(\"x and y:\", x and y)\n",
        "print(\"x or y:\", x or y)\n",
        "print(\"not x:\", not x)\n"
      ],
      "metadata": {
        "colab": {
          "base_uri": "https://localhost:8080/"
        },
        "id": "TM2hP2ChDryY",
        "outputId": "3c385488-7d8b-4369-8f93-ee6e406a8306"
      },
      "execution_count": 8,
      "outputs": [
        {
          "output_type": "stream",
          "name": "stdout",
          "text": [
            "x and y: False\n",
            "x or y: True\n",
            "not x: False\n"
          ]
        }
      ]
    },
    {
      "cell_type": "code",
      "source": [
        "#9. Write a Python program to convert user input from string to integer, float, and boolean types.\n",
        "data = input(\"Enter a value: \")\n",
        "print(\"As integer:\", int(data))\n",
        "print(\"As float:\", float(data))\n",
        "print(\"As boolean:\", bool(data))\n"
      ],
      "metadata": {
        "colab": {
          "base_uri": "https://localhost:8080/"
        },
        "id": "P4gS7mj8DrmL",
        "outputId": "9c15c335-f4e8-4f92-e858-53b3d956cf1d"
      },
      "execution_count": 11,
      "outputs": [
        {
          "output_type": "stream",
          "name": "stdout",
          "text": [
            "Enter a value: 2\n",
            "As integer: 2\n",
            "As float: 2.0\n",
            "As boolean: True\n"
          ]
        }
      ]
    },
    {
      "cell_type": "code",
      "source": [
        "#10. Write code to demonstrate type casting with list elements.\n",
        "nums = [\"1\", \"2\", \"3\"]\n",
        "nums_int = [int(i) for i in nums]\n",
        "print(nums_int)\n"
      ],
      "metadata": {
        "colab": {
          "base_uri": "https://localhost:8080/"
        },
        "id": "6hai_pn5DrXm",
        "outputId": "2cea4632-46e1-49f3-8cf4-2aade3f8dbc5"
      },
      "execution_count": 12,
      "outputs": [
        {
          "output_type": "stream",
          "name": "stdout",
          "text": [
            "[1, 2, 3]\n"
          ]
        }
      ]
    },
    {
      "cell_type": "code",
      "source": [
        "#11. Write a program that checks if a number is positive, negative, or zero.\n",
        "num = int(input(\"Enter a number: \"))\n",
        "if num > 0:\n",
        "    print(\"Positive\")\n",
        "elif num < 0:\n",
        "    print(\"Negative\")\n",
        "else:\n",
        "    print(\"Zero\")\n"
      ],
      "metadata": {
        "colab": {
          "base_uri": "https://localhost:8080/"
        },
        "id": "H8q1LiCHD3Zu",
        "outputId": "042c591c-06fd-4d35-b0f6-ca0be8350c57"
      },
      "execution_count": 13,
      "outputs": [
        {
          "output_type": "stream",
          "name": "stdout",
          "text": [
            "Enter a number: -4\n",
            "Negative\n"
          ]
        }
      ]
    },
    {
      "cell_type": "code",
      "source": [
        "#12. Write a for loop to print numbers from 1 to 10.\n",
        "for i in range(1, 11):\n",
        "    print(i)\n"
      ],
      "metadata": {
        "colab": {
          "base_uri": "https://localhost:8080/"
        },
        "id": "MNlhI3TgD3T_",
        "outputId": "88a7d3b8-9646-4df7-d839-6ef2ae24ec6c"
      },
      "execution_count": 14,
      "outputs": [
        {
          "output_type": "stream",
          "name": "stdout",
          "text": [
            "1\n",
            "2\n",
            "3\n",
            "4\n",
            "5\n",
            "6\n",
            "7\n",
            "8\n",
            "9\n",
            "10\n"
          ]
        }
      ]
    },
    {
      "cell_type": "code",
      "source": [
        "#13. Write a Python program to find the sum of all even numbers between 1 and 50.\n",
        "total = 0\n",
        "for i in range(1, 51):\n",
        "    if i % 2 == 0:\n",
        "        total += i\n",
        "print(\"Sum of even numbers:\", total)\n"
      ],
      "metadata": {
        "colab": {
          "base_uri": "https://localhost:8080/"
        },
        "id": "bybxZNWOD3NO",
        "outputId": "f4f5a7af-45eb-4b37-9df0-8ac0aa9c96fc"
      },
      "execution_count": 15,
      "outputs": [
        {
          "output_type": "stream",
          "name": "stdout",
          "text": [
            "Sum of even numbers: 650\n"
          ]
        }
      ]
    },
    {
      "cell_type": "code",
      "source": [
        "#14. Write a program to reverse a string using a while loop.\n",
        "s = input(\"Enter a string: \")\n",
        "i = len(s) - 1\n",
        "rev = \"\"\n",
        "while i >= 0:\n",
        "    rev += s[i]\n",
        "    i -= 1\n",
        "print(\"Reversed string:\", rev)\n"
      ],
      "metadata": {
        "colab": {
          "base_uri": "https://localhost:8080/"
        },
        "id": "PP2T5Q-VD3Fb",
        "outputId": "79d33599-23f1-444e-f1a1-65346732ebd7"
      },
      "execution_count": 16,
      "outputs": [
        {
          "output_type": "stream",
          "name": "stdout",
          "text": [
            "Enter a string: \"venu\"\n",
            "Reversed string: \"unev\"\n"
          ]
        }
      ]
    },
    {
      "cell_type": "code",
      "source": [
        "#15. Write a Python program to calculate the factorial of a number provided by the user using a while loop.\n",
        "num = int(input(\"Enter a number: \"))\n",
        "fact = 1\n",
        "i = 1\n",
        "while i <= num:\n",
        "    fact *= i\n",
        "    i += 1\n",
        "print(\"Factorial:\", fact)\n"
      ],
      "metadata": {
        "colab": {
          "base_uri": "https://localhost:8080/"
        },
        "id": "F_TqsXMGD29p",
        "outputId": "aa83996a-5b1d-4661-960a-215cb8644569"
      },
      "execution_count": 18,
      "outputs": [
        {
          "output_type": "stream",
          "name": "stdout",
          "text": [
            "Enter a number: 6\n",
            "Factorial: 720\n"
          ]
        }
      ]
    }
  ]
}