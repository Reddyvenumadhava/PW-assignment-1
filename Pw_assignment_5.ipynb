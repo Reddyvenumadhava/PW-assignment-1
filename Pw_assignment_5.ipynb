{
  "nbformat": 4,
  "nbformat_minor": 0,
  "metadata": {
    "colab": {
      "provenance": []
    },
    "kernelspec": {
      "name": "python3",
      "display_name": "Python 3"
    },
    "language_info": {
      "name": "python"
    }
  },
  "cells": [
    {
      "cell_type": "markdown",
      "source": [
        "#1. What is the difference between interpreted and compiled languages?\n",
        "\n",
        "**Ans:**\n",
        "\n",
        "**Interpreted language:** Executes line by line (e.g., Python). Errors are detected at runtime.\n",
        "\n",
        "**Compiled language:** Translated entirely into machine code before execution (e.g., C++). Errors are detected at compile-time."
      ],
      "metadata": {
        "id": "r33D2UJj6F1w"
      }
    },
    {
      "cell_type": "markdown",
      "source": [
        "#2. What is exception handling in Python?\n",
        "\n",
        "**Ans:**\n",
        "Exception handling allows a program to gracefully manage runtime errors using try, except, else, and finally blocks instead of crashing\n"
      ],
      "metadata": {
        "id": "mr15ihqz6NlA"
      }
    },
    {
      "cell_type": "markdown",
      "source": [
        "#3. What is the purpose of the finally block in exception handling?\n",
        "\n",
        "**Ans:**\n",
        "The finally block is used to execute code no matter what happens, whether an exception occurs or not — typically for cleanup tasks (like closing files or releasing resources)."
      ],
      "metadata": {
        "id": "xWVoXpWi6Q0Z"
      }
    },
    {
      "cell_type": "markdown",
      "source": [
        "#4. What is logging in Python?\n",
        "\n",
        "**Ans:**\n",
        "Logging is a way to record program events and errors for debugging and monitoring using Python’s built-in logging module."
      ],
      "metadata": {
        "id": "EX1iCC606T5M"
      }
    },
    {
      "cell_type": "markdown",
      "source": [
        "#5. What is the significance of the_del_ method in Python?\n",
        "\n",
        "**Ans:**\n",
        "The __del__() method is a destructor that is automatically called when an object is about to be destroyed, allowing cleanup of resources."
      ],
      "metadata": {
        "id": "ZN_XMn_P6W7J"
      }
    },
    {
      "cell_type": "markdown",
      "source": [
        "#6. What is the difference between import and from... import in Python?\n",
        "\n",
        "**Ans:**\n",
        "import module: Imports the whole module (use module.function()).\n",
        "\n",
        "from module import function: Imports specific functions or classes directly (use function())."
      ],
      "metadata": {
        "id": "RIJXNupL6b7r"
      }
    },
    {
      "cell_type": "markdown",
      "source": [
        "#7. How can you handle multiple exceptions in Python?\n",
        "\n",
        "**Ans:**\n",
        "You can handle multiple exceptions using:"
      ],
      "metadata": {
        "id": "htzDscNm6faY"
      }
    },
    {
      "cell_type": "code",
      "source": [
        "try:\n",
        "    ...\n",
        "except (TypeError, ValueError) as e:\n",
        "    print(e)\n"
      ],
      "metadata": {
        "id": "4JgnDAAH-NYC"
      },
      "execution_count": 1,
      "outputs": []
    },
    {
      "cell_type": "markdown",
      "source": [
        "#8. What is the purpose of the with statement when handling files in Python?\n",
        "\n",
        "**Ans:**\n",
        "The with statement automatically manages file opening and closing, ensuring the file is closed even if an error occurs."
      ],
      "metadata": {
        "id": "Lz_fEv_o6iYy"
      }
    },
    {
      "cell_type": "markdown",
      "source": [
        "#9. What is the difference between multithreading and multiprocessing?\n",
        "\n",
        "**Ans:**\n",
        "\n",
        "**Multithreading:** Runs multiple threads in one process (shares memory, good for I/O-bound tasks).\n",
        "\n",
        "**Multiprocessing:** Runs multiple processes with separate memory (good for CPU-bound tasks)"
      ],
      "metadata": {
        "id": "1WrgBjb86mkW"
      }
    },
    {
      "cell_type": "markdown",
      "source": [
        "#10. What are the advantages of using logging in a program?\n",
        "\n",
        "**Ans:**\n",
        "\n",
        "Tracks events and errors\n",
        "\n",
        "Helps in debugging\n",
        "\n",
        "Maintains records of program execution\n",
        "\n",
        "Configurable output levels (debug, info, warning, etc."
      ],
      "metadata": {
        "id": "HQcpopwj6rgx"
      }
    },
    {
      "cell_type": "markdown",
      "source": [
        "#11. What is memory management in Python?\n",
        "\n",
        "**Ans:**\n",
        "Memory management refers to how Python allocates and frees memory automatically using a private heap space managed by the interpreter and garbage collector."
      ],
      "metadata": {
        "id": "G2W_RlBF6vUG"
      }
    },
    {
      "cell_type": "markdown",
      "source": [
        "#12. What are the basic steps involved in exception handling in Python?\n",
        "\n",
        "**Ans:**\n",
        "\n",
        "Place code in a try block.\n",
        "\n",
        "Catch exceptions using except.\n",
        "\n",
        "Optionally use else for code that runs if no exception occurs.\n",
        "\n",
        "Use finally for cleanup operations"
      ],
      "metadata": {
        "id": "g9nQlwfU6yUN"
      }
    },
    {
      "cell_type": "markdown",
      "source": [
        "#13. Why is memory management important in Python?\n",
        "\n",
        "**Ans:**\n",
        "It helps prevent memory leaks, optimizes performance, and ensures efficient use of system resources"
      ],
      "metadata": {
        "id": "AgM8geKg61QN"
      }
    },
    {
      "cell_type": "markdown",
      "source": [
        "#14. What is the role of try and except in exception handling?\n",
        "\n",
        "**Ans:**\n",
        "\n",
        "**try:** Contains code that might raise an exception.\n",
        "\n",
        "**except:** Catches and handles specific exceptions when they occur"
      ],
      "metadata": {
        "id": "35mrFc4W64ZL"
      }
    },
    {
      "cell_type": "markdown",
      "source": [
        "#15. How does Python's garbage collection system work?\n",
        "\n",
        "**Ans:**\n",
        "Python’s garbage collector automatically removes unused objects from memory using reference counting and a cyclic garbage collector to handle circular references."
      ],
      "metadata": {
        "id": "GvvstM7F67LH"
      }
    },
    {
      "cell_type": "markdown",
      "source": [
        "#16. What is the purpose of the else block in exception handling?\n",
        "\n",
        "**Ans:**\n",
        "The else block runs only if no exception occurs in the try block."
      ],
      "metadata": {
        "id": "wd_JkhUy76mE"
      }
    },
    {
      "cell_type": "markdown",
      "source": [
        "#17. What are the common logging levels in Python?\n",
        "\n",
        "**Ans:**\n",
        "\n",
        "**DEBUG –** Detailed info for debugging\n",
        "\n",
        "**INFO –** General program events\n",
        "\n",
        "**WARNING –** Indication of potential issues\n",
        "\n",
        "**ERROR –** A serious problem occurred\n",
        "\n",
        "**CRITICAL –** Very severe error, program may stop\n",
        "\n"
      ],
      "metadata": {
        "id": "QuEzK--E8C93"
      }
    },
    {
      "cell_type": "markdown",
      "source": [
        "#18. What is the difference between os.fork() and multiprocessing in Python?\n",
        "\n",
        "**Ans:**\n",
        "\n",
        "**os.fork():** Creates a child process (Unix only, low-level).\n",
        "\n",
        "**multiprocessing:** High-level API, works on all platforms, provides process control and inter-process communication."
      ],
      "metadata": {
        "id": "-a3XRdbB8GSA"
      }
    },
    {
      "cell_type": "markdown",
      "source": [
        "#19. What is the importance of closing a file in Python?\n",
        "\n",
        "**Ans:**\n",
        "Closing a file ensures that all data is written to disk, resources are freed, and no corruption occurs."
      ],
      "metadata": {
        "id": "Y3h7ENTP8KA0"
      }
    },
    {
      "cell_type": "markdown",
      "source": [
        "#20. What is the difference between file.read() and file.readline() in Python?\n",
        "\n",
        "**Ans:**\n",
        "\n",
        "**file.read():** Reads the entire file as a single string.\n",
        "\n",
        "**file.readline():** Reads one line from the file at a time."
      ],
      "metadata": {
        "id": "v9IhyDvC8OHe"
      }
    },
    {
      "cell_type": "markdown",
      "source": [
        "#21. What is the logging module in Python used for?\n",
        "\n",
        "**Ans:**\n",
        "The logging module provides a flexible framework to generate logs, control log levels, and store them in files or display them on the console"
      ],
      "metadata": {
        "id": "liD6tIjK8SlQ"
      }
    },
    {
      "cell_type": "markdown",
      "source": [
        "#22. What is the os module in Python used for in file handling?\n",
        "\n",
        "**Ans:**\n",
        "The os module allows interaction with the operating system, such as file path operations, creating/removing directories, and managing files."
      ],
      "metadata": {
        "id": "iImRk8Jx8W8Z"
      }
    },
    {
      "cell_type": "markdown",
      "source": [
        "#23. What are the challenges associated with memory management in Python?\n",
        "\n",
        "**Ans:**\n",
        "Handling circular references\n",
        "\n",
        "Managing large datasets\n",
        "\n",
        "Memory leaks due to lingering references\n",
        "\n",
        "Performance trade-offs with garbage collection"
      ],
      "metadata": {
        "id": "M8jBhAlZ8awv"
      }
    },
    {
      "cell_type": "markdown",
      "source": [
        "#24. How do you raise an exception manually in Python?\n",
        "\n",
        "**Ans:**\n",
        "You can raise exceptions using the raise statement"
      ],
      "metadata": {
        "id": "qGXJbbuj8eZB"
      }
    },
    {
      "cell_type": "markdown",
      "source": [
        "#25. Why is it important to use multithreading in certain applications?\n",
        "\n",
        "**Ans:**\n",
        "Multithreading improves performance in I/O-bound tasks (like file reading, network calls) by allowing multiple operations to run concurrently, reducing waiting time."
      ],
      "metadata": {
        "id": "uleLuThx8h_D"
      }
    },
    {
      "cell_type": "markdown",
      "source": [
        "#**Practical Questions**"
      ],
      "metadata": {
        "id": "uvB8ipWsAOLt"
      }
    },
    {
      "cell_type": "markdown",
      "source": [
        "#1. How can you open a file for writing in Python and write a string to it?\n",
        "\n",
        "**Ans:**"
      ],
      "metadata": {
        "id": "zR-Vg-FqATbX"
      }
    },
    {
      "cell_type": "code",
      "source": [
        "with open(\"sample.txt\", \"w\") as file:\n",
        "    file.write(\"Hello, Python!\")\n"
      ],
      "metadata": {
        "id": "vuQEdZTwCVxZ"
      },
      "execution_count": 5,
      "outputs": []
    },
    {
      "cell_type": "markdown",
      "source": [
        "#2. Write a Python program to read the contents of a file and print each line\n",
        "\n",
        "**Ans:**"
      ],
      "metadata": {
        "id": "2Rkau6QPAs3N"
      }
    },
    {
      "cell_type": "code",
      "source": [
        "with open(\"sample.txt\", \"r\") as file:\n",
        "    for line in file:\n",
        "        print(line.strip())\n"
      ],
      "metadata": {
        "colab": {
          "base_uri": "https://localhost:8080/"
        },
        "id": "7yKb6lvKCXzb",
        "outputId": "ea23cbe0-4bc3-45cc-cd93-cb61e536b908"
      },
      "execution_count": 6,
      "outputs": [
        {
          "output_type": "stream",
          "name": "stdout",
          "text": [
            "Hello, Python!\n"
          ]
        }
      ]
    },
    {
      "cell_type": "markdown",
      "source": [
        "#3. How would you handle a case where the file doesn't exist while trying to open it for reading?\n",
        "\n",
        "**Ans:**"
      ],
      "metadata": {
        "id": "agoMAGanAvro"
      }
    },
    {
      "cell_type": "code",
      "source": [
        "try:\n",
        "    with open(\"nofile.txt\", \"r\") as file:\n",
        "        print(file.read())\n",
        "except FileNotFoundError:\n",
        "    print(\"File not found!\")\n"
      ],
      "metadata": {
        "colab": {
          "base_uri": "https://localhost:8080/"
        },
        "id": "TDYnTwrJCbY5",
        "outputId": "0d1e2115-4380-424f-cec8-d56008b69241"
      },
      "execution_count": 7,
      "outputs": [
        {
          "output_type": "stream",
          "name": "stdout",
          "text": [
            "File not found!\n"
          ]
        }
      ]
    },
    {
      "cell_type": "markdown",
      "source": [
        "#4. Write a Python script that reads from one file and writes its content to another file.\n",
        "\n",
        "**Ans:**"
      ],
      "metadata": {
        "id": "Aai1n0_2AzIR"
      }
    },
    {
      "cell_type": "code",
      "source": [
        "import os\n",
        "\n",
        "source_file = \"source.txt\"\n",
        "destination_file = \"destination.txt\"\n",
        "\n",
        "if os.path.exists(source_file):\n",
        "    with open(source_file, \"r\") as src, open(destination_file, \"w\") as dest:\n",
        "        for line in src:\n",
        "            dest.write(line)\n",
        "    print(\"File copied successfully.\")\n",
        "else:\n",
        "    print(\"Source file does not exist.\")\n"
      ],
      "metadata": {
        "colab": {
          "base_uri": "https://localhost:8080/"
        },
        "id": "XFTJOc1IDwOI",
        "outputId": "81ac6fbc-75a0-4542-f501-7703c0c38196"
      },
      "execution_count": 28,
      "outputs": [
        {
          "output_type": "stream",
          "name": "stdout",
          "text": [
            "Source file does not exist.\n"
          ]
        }
      ]
    },
    {
      "cell_type": "markdown",
      "source": [
        "#5. How would you catch and handle division by zero error in Python?\n",
        "\n",
        "**Ans:**"
      ],
      "metadata": {
        "id": "uT4iuyPPA2QR"
      }
    },
    {
      "cell_type": "code",
      "source": [
        "try:\n",
        "    result = 10 / 0\n",
        "except ZeroDivisionError:\n",
        "    print(\"Division by zero is not allowed.\")\n"
      ],
      "metadata": {
        "colab": {
          "base_uri": "https://localhost:8080/"
        },
        "id": "3eKgl2hsCf4d",
        "outputId": "c9b22833-d511-42d1-e8a1-dd3279601de1"
      },
      "execution_count": 9,
      "outputs": [
        {
          "output_type": "stream",
          "name": "stdout",
          "text": [
            "Division by zero is not allowed.\n"
          ]
        }
      ]
    },
    {
      "cell_type": "markdown",
      "source": [
        "#6. Write a Python program that logs an error message to a log file when a division by zero exception occurs.\n",
        "\n",
        "**Ans:**"
      ],
      "metadata": {
        "id": "xGo8c2jxA5RK"
      }
    },
    {
      "cell_type": "code",
      "source": [
        "import logging\n",
        "\n",
        "logging.basicConfig(filename=\"errors.log\", level=logging.ERROR)\n",
        "\n",
        "try:\n",
        "    x = 10 / 0\n",
        "except ZeroDivisionError as e:\n",
        "    logging.error(f\"Error occurred: {e}\")\n"
      ],
      "metadata": {
        "colab": {
          "base_uri": "https://localhost:8080/"
        },
        "id": "ilc4wEYVCjgc",
        "outputId": "42238c57-ad87-4620-c0a2-8c643ab847f2"
      },
      "execution_count": 10,
      "outputs": [
        {
          "output_type": "stream",
          "name": "stderr",
          "text": [
            "ERROR:root:Error occurred: division by zero\n"
          ]
        }
      ]
    },
    {
      "cell_type": "markdown",
      "source": [
        "#7. How do you log information at different levels (INFO, ERROR, WARNING) in Python using the logging module?\n",
        "\n",
        "**Ans:**"
      ],
      "metadata": {
        "id": "EBkWKzbMA8DM"
      }
    },
    {
      "cell_type": "code",
      "source": [
        "import logging\n",
        "\n",
        "logging.basicConfig(level=logging.DEBUG)\n",
        "\n",
        "logging.info(\"This is an info message\")\n",
        "logging.warning(\"This is a warning message\")\n",
        "logging.error(\"This is an error message\")\n"
      ],
      "metadata": {
        "colab": {
          "base_uri": "https://localhost:8080/"
        },
        "id": "S-4Kb6BFCtYe",
        "outputId": "07c54d01-3d1f-42f8-d24a-3c05d8d321aa"
      },
      "execution_count": 11,
      "outputs": [
        {
          "output_type": "stream",
          "name": "stderr",
          "text": [
            "WARNING:root:This is a warning message\n",
            "ERROR:root:This is an error message\n"
          ]
        }
      ]
    },
    {
      "cell_type": "markdown",
      "source": [
        "#8. Write a program to handle a file opening error using exception handling.\n",
        "\n",
        "**Ans:**"
      ],
      "metadata": {
        "id": "qiNxiS6FA_JL"
      }
    },
    {
      "cell_type": "code",
      "source": [
        "try:\n",
        "    with open(\"unknown.txt\", \"r\") as file:\n",
        "        data = file.read()\n",
        "except IOError:\n",
        "    print(\"Error opening file!\")\n"
      ],
      "metadata": {
        "colab": {
          "base_uri": "https://localhost:8080/"
        },
        "id": "mn3V7kBwCvcr",
        "outputId": "20e75061-7561-450c-cffc-8bd54a0f6786"
      },
      "execution_count": 12,
      "outputs": [
        {
          "output_type": "stream",
          "name": "stdout",
          "text": [
            "Error opening file!\n"
          ]
        }
      ]
    },
    {
      "cell_type": "markdown",
      "source": [
        "#9. How can you read a file line by line and store its content in a list in Python?\n",
        "\n",
        "**Ans:**"
      ],
      "metadata": {
        "id": "SiWeDA0WBCFY"
      }
    },
    {
      "cell_type": "code",
      "source": [
        "with open(\"sample.txt\", \"r\") as file:\n",
        "    lines = [line.strip() for line in file]\n",
        "print(lines)\n"
      ],
      "metadata": {
        "colab": {
          "base_uri": "https://localhost:8080/"
        },
        "id": "XMxy_knrCyY8",
        "outputId": "ec868b38-c902-4f44-a747-0bdd0cdab562"
      },
      "execution_count": 13,
      "outputs": [
        {
          "output_type": "stream",
          "name": "stdout",
          "text": [
            "['Hello, Python!']\n"
          ]
        }
      ]
    },
    {
      "cell_type": "markdown",
      "source": [
        "#10. How can you append data to an existing file in Python?\n",
        "\n",
        "**Ans:**"
      ],
      "metadata": {
        "id": "wfDwf9uQBEjU"
      }
    },
    {
      "cell_type": "code",
      "source": [
        "with open(\"sample.txt\", \"a\") as file:\n",
        "    file.write(\"\\nAppended text.\")\n"
      ],
      "metadata": {
        "id": "r8KK-q-5C1vW"
      },
      "execution_count": 14,
      "outputs": []
    },
    {
      "cell_type": "markdown",
      "source": [
        "#11. Write a Python program that uses a try-except block to handle an error when attempting to access a dictionary key that doesn't exist.\n",
        "\n",
        "**Ans:**"
      ],
      "metadata": {
        "id": "qu7x9zONBH7C"
      }
    },
    {
      "cell_type": "code",
      "source": [
        "data = {\"name\": \"Ben\"}\n",
        "try:\n",
        "    print(data[\"age\"])\n",
        "except KeyError:\n",
        "    print(\"Key not found!\")\n"
      ],
      "metadata": {
        "colab": {
          "base_uri": "https://localhost:8080/"
        },
        "id": "O2DF3zEEC4N9",
        "outputId": "44e50da4-3da4-47b2-ee1c-48f2b4a8b4cb"
      },
      "execution_count": 15,
      "outputs": [
        {
          "output_type": "stream",
          "name": "stdout",
          "text": [
            "Key not found!\n"
          ]
        }
      ]
    },
    {
      "cell_type": "markdown",
      "source": [
        "#12. Write a program that demonstrates using multiple except blocks to handle different types of exceptions\n",
        "\n",
        "**Ans:**"
      ],
      "metadata": {
        "id": "d4Cvh0P9BK8n"
      }
    },
    {
      "cell_type": "code",
      "source": [
        "try:\n",
        "    x = int(\"abc\")\n",
        "    y = 10 / 0\n",
        "except ValueError:\n",
        "    print(\"Invalid value!\")\n",
        "except ZeroDivisionError:\n",
        "    print(\"Division by zero!\")\n"
      ],
      "metadata": {
        "colab": {
          "base_uri": "https://localhost:8080/"
        },
        "id": "0UG9wMOFC7BC",
        "outputId": "4395bba4-e921-43f6-8a14-eabfbbf8d863"
      },
      "execution_count": 16,
      "outputs": [
        {
          "output_type": "stream",
          "name": "stdout",
          "text": [
            "Invalid value!\n"
          ]
        }
      ]
    },
    {
      "cell_type": "markdown",
      "source": [
        "#13. How would you check if a file exists before attempting to read it in Python?\n",
        "\n",
        "**Ans:**"
      ],
      "metadata": {
        "id": "ROR5v8HOBOuQ"
      }
    },
    {
      "cell_type": "code",
      "source": [
        "import os\n",
        "\n",
        "if os.path.exists(\"sample.txt\"):\n",
        "    with open(\"sample.txt\") as f:\n",
        "        print(f.read())\n",
        "else:\n",
        "    print(\"File not found.\")\n"
      ],
      "metadata": {
        "colab": {
          "base_uri": "https://localhost:8080/"
        },
        "id": "jIaNoAD-C9_c",
        "outputId": "95a78a5d-94f0-4fc4-81b4-b74a1d87ad20"
      },
      "execution_count": 17,
      "outputs": [
        {
          "output_type": "stream",
          "name": "stdout",
          "text": [
            "Hello, Python!\n",
            "Appended text.\n"
          ]
        }
      ]
    },
    {
      "cell_type": "markdown",
      "source": [
        "#14. Write a program that uses the logging module to log both informational and error messages\n",
        "\n",
        "**Ans:**"
      ],
      "metadata": {
        "id": "wlm99VWYBRea"
      }
    },
    {
      "cell_type": "code",
      "source": [
        "import logging\n",
        "\n",
        "logging.basicConfig(filename=\"app.log\", level=logging.INFO)\n",
        "\n",
        "logging.info(\"Program started successfully\")\n",
        "try:\n",
        "    10 / 0\n",
        "except ZeroDivisionError as e:\n",
        "    logging.error(f\"Error: {e}\")\n"
      ],
      "metadata": {
        "colab": {
          "base_uri": "https://localhost:8080/"
        },
        "id": "0aBoCaPtDBKC",
        "outputId": "576b437c-c21a-4df7-8e07-c5d505bb3e53"
      },
      "execution_count": 18,
      "outputs": [
        {
          "output_type": "stream",
          "name": "stderr",
          "text": [
            "ERROR:root:Error: division by zero\n"
          ]
        }
      ]
    },
    {
      "cell_type": "markdown",
      "source": [
        "#15. Write a Python program that prints the content of a file and handles the case when the file is empty.\n",
        "\n",
        "**Ans:**"
      ],
      "metadata": {
        "id": "NSGK99jDBUzl"
      }
    },
    {
      "cell_type": "code",
      "source": [
        "with open(\"sample.txt\", \"r\") as f:\n",
        "    content = f.read()\n",
        "    if content:\n",
        "        print(content)\n",
        "    else:\n",
        "        print(\"File is empty.\")\n"
      ],
      "metadata": {
        "colab": {
          "base_uri": "https://localhost:8080/"
        },
        "id": "kU8brLmHDE37",
        "outputId": "5e7656a1-1eb0-4ebe-dd01-d26f7465f216"
      },
      "execution_count": 19,
      "outputs": [
        {
          "output_type": "stream",
          "name": "stdout",
          "text": [
            "Hello, Python!\n",
            "Appended text.\n"
          ]
        }
      ]
    },
    {
      "cell_type": "markdown",
      "source": [
        "#16. Demonstrate how to use memory profiling to check the memory usage of a small program.\n",
        "\n",
        "**Ans:**"
      ],
      "metadata": {
        "id": "8yAfRhRcBYf5"
      }
    },
    {
      "cell_type": "code",
      "source": [
        "import tracemalloc\n",
        "\n",
        "def calc():\n",
        "    data = [i for i in range(1000000)]\n",
        "    print(\"Sum:\", sum(data))\n",
        "\n",
        "tracemalloc.start()          # start tracking memory\n",
        "calc()\n",
        "current, peak = tracemalloc.get_traced_memory()\n",
        "print(f\"Current memory usage: {current / 10**6:.2f} MB; Peak: {peak / 10**6:.2f} MB\")\n",
        "tracemalloc.stop()\n"
      ],
      "metadata": {
        "colab": {
          "base_uri": "https://localhost:8080/"
        },
        "id": "xMdqbntID1oz",
        "outputId": "8e855b66-fc4f-4a42-b2f3-962d72a83ec6"
      },
      "execution_count": 29,
      "outputs": [
        {
          "output_type": "stream",
          "name": "stdout",
          "text": [
            "Sum: 499999500000\n",
            "Current memory usage: 0.00 MB; Peak: 40.44 MB\n"
          ]
        }
      ]
    },
    {
      "cell_type": "markdown",
      "source": [
        "#17. Write a Python program to create and write a list of numbers to a file, one number per line.\n",
        "\n",
        "**Ans:**"
      ],
      "metadata": {
        "id": "MY-XFKl-BcZV"
      }
    },
    {
      "cell_type": "code",
      "source": [
        "numbers = [1, 2, 3, 4, 5]\n",
        "with open(\"numbers.txt\", \"w\") as f:\n",
        "    for num in numbers:\n",
        "        f.write(f\"{num}\\n\")\n"
      ],
      "metadata": {
        "id": "7l-wht5JDPbq"
      },
      "execution_count": 21,
      "outputs": []
    },
    {
      "cell_type": "markdown",
      "source": [
        "#18. How would you implement a basic logging setup that logs to a file with rotation after IMB?\n",
        "\n",
        "**Ans:**"
      ],
      "metadata": {
        "id": "EjpcuMD5Bf3s"
      }
    },
    {
      "cell_type": "code",
      "source": [
        "import logging\n",
        "from logging.handlers import RotatingFileHandler\n",
        "\n",
        "handler = RotatingFileHandler(\"rotate.log\", maxBytes=1_000_000, backupCount=3)\n",
        "logging.basicConfig(handlers=[handler], level=logging.INFO)\n",
        "logging.info(\"This is a rotating log example.\")\n"
      ],
      "metadata": {
        "id": "XfEt7s-qDRW5"
      },
      "execution_count": 22,
      "outputs": []
    },
    {
      "cell_type": "markdown",
      "source": [
        "#19. Write a program that handles both IndexError and KeyError using a try-except block.\n",
        "\n",
        "**Ans:**"
      ],
      "metadata": {
        "id": "aj9PHOHwBkrP"
      }
    },
    {
      "cell_type": "code",
      "source": [
        "try:\n",
        "    lst = [1, 2, 3]\n",
        "    print(lst[5])\n",
        "    d = {\"a\": 1}\n",
        "    print(d[\"b\"])\n",
        "except IndexError:\n",
        "    print(\"List index out of range.\")\n",
        "except KeyError:\n",
        "    print(\"Key not found in dictionary.\")\n"
      ],
      "metadata": {
        "colab": {
          "base_uri": "https://localhost:8080/"
        },
        "id": "bv4MVmDsDTzS",
        "outputId": "0bdd4b07-5c40-4e84-e71f-7df17e1b9878"
      },
      "execution_count": 23,
      "outputs": [
        {
          "output_type": "stream",
          "name": "stdout",
          "text": [
            "List index out of range.\n"
          ]
        }
      ]
    },
    {
      "cell_type": "markdown",
      "source": [
        "#20. How would you open a file and read its contents using a context manager in Python?\n",
        "\n",
        "**Ans:**"
      ],
      "metadata": {
        "id": "5fAsR_LOBs0-"
      }
    },
    {
      "cell_type": "code",
      "source": [
        "with open(\"sample.txt\", \"r\") as f:\n",
        "    print(f.read())\n"
      ],
      "metadata": {
        "colab": {
          "base_uri": "https://localhost:8080/"
        },
        "id": "WoSkMAN8DXeu",
        "outputId": "aa17ca36-104d-4139-f1c3-e2b8bdfb09e6"
      },
      "execution_count": 24,
      "outputs": [
        {
          "output_type": "stream",
          "name": "stdout",
          "text": [
            "Hello, Python!\n",
            "Appended text.\n"
          ]
        }
      ]
    },
    {
      "cell_type": "markdown",
      "source": [
        "#21. Write a Python program that reads a file and prints the number of occurrences of a specific word.\n",
        "\n",
        "**Ans:**"
      ],
      "metadata": {
        "id": "UUuvq-OMBxR6"
      }
    },
    {
      "cell_type": "code",
      "source": [
        "word = \"python\"\n",
        "count = 0\n",
        "with open(\"sample.txt\", \"r\") as f:\n",
        "    for line in f:\n",
        "        count += line.lower().count(word)\n",
        "print(f\"'{word}' appears {count} times.\")\n"
      ],
      "metadata": {
        "colab": {
          "base_uri": "https://localhost:8080/"
        },
        "id": "G9a0pCCpDZWF",
        "outputId": "1587d4c5-be3a-4f34-fc15-21d0ffa88027"
      },
      "execution_count": 25,
      "outputs": [
        {
          "output_type": "stream",
          "name": "stdout",
          "text": [
            "'python' appears 1 times.\n"
          ]
        }
      ]
    },
    {
      "cell_type": "markdown",
      "source": [
        "#22. How can you check if a file is empty before attempting to read its contents?\n",
        "\n",
        "**Ans:**"
      ],
      "metadata": {
        "id": "PQKNoUV3B0fn"
      }
    },
    {
      "cell_type": "code",
      "source": [
        "import os\n",
        "\n",
        "if os.path.getsize(\"sample.txt\") == 0:\n",
        "    print(\"File is empty.\")\n",
        "else:\n",
        "    print(\"File has content.\")\n"
      ],
      "metadata": {
        "colab": {
          "base_uri": "https://localhost:8080/"
        },
        "id": "qGt9HOKnDdv8",
        "outputId": "1a55db2f-b451-4999-dc54-b737d8324e73"
      },
      "execution_count": 26,
      "outputs": [
        {
          "output_type": "stream",
          "name": "stdout",
          "text": [
            "File has content.\n"
          ]
        }
      ]
    },
    {
      "cell_type": "markdown",
      "source": [
        "#23. Write a Python program that writes to a log file when an error occurs during file handling.\n",
        "\n",
        "**Ans:**"
      ],
      "metadata": {
        "id": "zg_IticzB3fI"
      }
    },
    {
      "cell_type": "code",
      "source": [
        "import logging\n",
        "\n",
        "logging.basicConfig(filename=\"file_errors.log\", level=logging.ERROR)\n",
        "\n",
        "try:\n",
        "    with open(\"missing.txt\", \"r\") as f:\n",
        "        print(f.read())\n",
        "except Exception as e:\n",
        "    logging.error(f\"File handling error: {e}\")\n"
      ],
      "metadata": {
        "colab": {
          "base_uri": "https://localhost:8080/"
        },
        "id": "BHJJ9ZFUDgaI",
        "outputId": "93715493-4c8b-4257-e637-3fd1c3048f41"
      },
      "execution_count": 27,
      "outputs": [
        {
          "output_type": "stream",
          "name": "stderr",
          "text": [
            "ERROR:root:File handling error: [Errno 2] No such file or directory: 'missing.txt'\n"
          ]
        }
      ]
    }
  ]
}